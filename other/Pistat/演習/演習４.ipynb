{
 "cells": [
  {
   "cell_type": "code",
   "execution_count": 1,
   "id": "6d3afc08",
   "metadata": {},
   "outputs": [],
   "source": [
    "import pandas as pd"
   ]
  },
  {
   "cell_type": "code",
   "execution_count": null,
   "id": "86461097",
   "metadata": {},
   "outputs": [],
   "source": [
    "# data = pd.read_csv(\"/Users/asahi/Desktop/Pistat/ex2.5.csv\", sep=\",\")\n",
    "# data.head()"
   ]
  },
  {
   "cell_type": "code",
   "execution_count": 2,
   "id": "9745eda2",
   "metadata": {
    "tags": []
   },
   "outputs": [],
   "source": [
    "# data1 = \n",
    "# data2 = "
   ]
  },
  {
   "cell_type": "code",
   "execution_count": null,
   "id": "23a2cfc9",
   "metadata": {},
   "outputs": [],
   "source": [
    "data1.corr(method=\"pearson\")\n",
    "data2.corr(method=\"spearman\")"
   ]
  }
 ],
 "metadata": {
  "kernelspec": {
   "display_name": "Python 3",
   "language": "python",
   "name": "python3"
  },
  "language_info": {
   "codemirror_mode": {
    "name": "ipython",
    "version": 3
   },
   "file_extension": ".py",
   "mimetype": "text/x-python",
   "name": "python",
   "nbconvert_exporter": "python",
   "pygments_lexer": "ipython3",
   "version": "3.8.3"
  }
 },
 "nbformat": 4,
 "nbformat_minor": 5
}
