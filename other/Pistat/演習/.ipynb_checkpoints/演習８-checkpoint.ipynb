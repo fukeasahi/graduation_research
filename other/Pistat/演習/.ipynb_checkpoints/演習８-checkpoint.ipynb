{
 "cells": [
  {
   "cell_type": "code",
   "execution_count": 1,
   "id": "61b13a23",
   "metadata": {},
   "outputs": [],
   "source": [
    "import pandas as pd"
   ]
  },
  {
   "cell_type": "code",
   "execution_count": 3,
   "id": "2d327bf9",
   "metadata": {},
   "outputs": [],
   "source": [
    "data = pd.read_csv(\"/Users/asahi/Desktop/Pistat/Enshu3.csv\")"
   ]
  },
  {
   "cell_type": "code",
   "execution_count": 13,
   "id": "8a1efb62",
   "metadata": {},
   "outputs": [],
   "source": [
    "data.head()\n",
    "import statsmodels.formula.api as smf"
   ]
  },
  {
   "cell_type": "code",
   "execution_count": 9,
   "id": "f6f4e4c9",
   "metadata": {},
   "outputs": [
    {
     "name": "stdout",
     "output_type": "stream",
     "text": [
      "                            OLS Regression Results                            \n",
      "==============================================================================\n",
      "Dep. Variable:               byoushou   R-squared:                       1.000\n",
      "Model:                            OLS   Adj. R-squared:                    nan\n",
      "Method:                 Least Squares   F-statistic:                       nan\n",
      "Date:                Wed, 02 Jun 2021   Prob (F-statistic):                nan\n",
      "Time:                        13:55:41   Log-Likelihood:                 1452.7\n",
      "No. Observations:                  47   AIC:                            -2811.\n",
      "Df Residuals:                       0   BIC:                            -2724.\n",
      "Df Model:                          46                                         \n",
      "Covariance Type:            nonrobust                                         \n",
      "=====================================================================================\n",
      "                        coef    std err          t      P>|t|      [0.025      0.975]\n",
      "-------------------------------------------------------------------------------------\n",
      "Intercept             1.0000        inf          0        nan         nan         nan\n",
      "jinnkou[T.1,073]     -0.1900        inf         -0        nan         nan         nan\n",
      "jinnkou[T.1,078]     -0.0700        inf         -0        nan         nan         nan\n",
      "jinnkou[T.1,135]      0.5200        inf          0        nan         nan         nan\n",
      "jinnkou[T.1,138]     25.3600        inf          0        nan         nan         nan\n",
      "jinnkou[T.1,227]     -1.0000        inf         -0        nan         nan         nan\n",
      "jinnkou[T.1,246]     -1.0000        inf         -0        nan         nan         nan\n",
      "jinnkou[T.1,327]     -0.7500        inf         -0        nan         nan         nan\n",
      "jinnkou[T.1,330]      2.8500        inf          0        nan         nan         nan\n",
      "jinnkou[T.1,339]     -1.0000        inf         -0        nan         nan         nan\n",
      "jinnkou[T.1,358]      1.1300        inf          0        nan         nan         nan\n",
      "jinnkou[T.1,414]      3.6600        inf          0        nan         nan         nan\n",
      "jinnkou[T.1,453]     24.5900        inf          0        nan         nan         nan\n",
      "jinnkou[T.1,602]      1.7700        inf          0        nan         nan         nan\n",
      "jinnkou[T.1,748]      2.0000        inf          0        nan         nan         nan\n",
      "jinnkou[T.1,781]     20.7600        inf          0        nan         nan         nan\n",
      "jinnkou[T.1,846]      7.1000        inf          0        nan         nan         nan\n",
      "jinnkou[T.1,890]     -0.6000        inf         -0        nan         nan         nan\n",
      "jinnkou[T.1,934]     28.3900        inf          0        nan         nan         nan\n",
      "jinnkou[T.1,942]     40.6400        inf          0        nan         nan         nan\n",
      "jinnkou[T.1,987]      2.0400        inf          0        nan         nan         nan\n",
      "jinnkou[T.13,921]    30.2500        inf          0        nan         nan         nan\n",
      "jinnkou[T.2,049]      1.8600        inf          0        nan         nan         nan\n",
      "jinnkou[T.2,223]      3.3900        inf          0        nan         nan         nan\n",
      "jinnkou[T.2,306]     12.0400        inf          0        nan         nan         nan\n",
      "jinnkou[T.2,583]     12.9800        inf          0        nan         nan         nan\n",
      "jinnkou[T.2,804]      1.7100        inf          0        nan         nan         nan\n",
      "jinnkou[T.2,860]      3.0300        inf          0        nan         nan         nan\n",
      "jinnkou[T.3,644]      1.3400        inf          0        nan         nan         nan\n",
      "jinnkou[T.5,104]     22.4700        inf          0        nan         nan         nan\n",
      "jinnkou[T.5,250]      2.5100        inf          0        nan         nan         nan\n",
      "jinnkou[T.5,466]     12.4200        inf          0        nan         nan         nan\n",
      "jinnkou[T.556]        3.1500        inf          0        nan         nan         nan\n",
      "jinnkou[T.6,259]     16.0000        inf          0        nan         nan         nan\n",
      "jinnkou[T.674]       -1.0000        inf         -0        nan         nan         nan\n",
      "jinnkou[T.698]       -0.4800        inf         -0        nan         nan         nan\n",
      "jinnkou[T.7,350]     16.5700        inf          0        nan         nan         nan\n",
      "jinnkou[T.7,552]     21.0000        inf          0        nan         nan         nan\n",
      "jinnkou[T.728]        9.5000        inf          0        nan         nan         nan\n",
      "jinnkou[T.768]        3.1900        inf          0        nan         nan         nan\n",
      "jinnkou[T.8,809]     27.3500        inf          0        nan         nan         nan\n",
      "jinnkou[T.811]        0.4000        inf          0        nan         nan         nan\n",
      "jinnkou[T.815]       -0.2700        inf         -0        nan         nan         nan\n",
      "jinnkou[T.9,198]     13.1800        inf          0        nan         nan         nan\n",
      "jinnkou[T.925]    -3.988e-15        inf         -0        nan         nan         nan\n",
      "jinnkou[T.956]        3.8600        inf          0        nan         nan         nan\n",
      "jinnkou[T.966]       -1.0000        inf         -0        nan         nan         nan\n",
      "==============================================================================\n",
      "Omnibus:                        4.500   Durbin-Watson:                   1.661\n",
      "Prob(Omnibus):                  0.105   Jarque-Bera (JB):                3.815\n",
      "Skew:                          -0.369   Prob(JB):                        0.148\n",
      "Kurtosis:                       4.185   Cond. No.                         48.0\n",
      "==============================================================================\n",
      "\n",
      "Notes:\n",
      "[1] Standard Errors assume that the covariance matrix of the errors is correctly specified.\n"
     ]
    },
    {
     "name": "stderr",
     "output_type": "stream",
     "text": [
      "/Users/asahi/opt/anaconda3/lib/python3.8/site-packages/statsmodels/regression/linear_model.py:1728: RuntimeWarning: divide by zero encountered in true_divide\n",
      "  return 1 - (np.divide(self.nobs - self.k_constant, self.df_resid)\n",
      "/Users/asahi/opt/anaconda3/lib/python3.8/site-packages/statsmodels/regression/linear_model.py:1728: RuntimeWarning: invalid value encountered in double_scalars\n",
      "  return 1 - (np.divide(self.nobs - self.k_constant, self.df_resid)\n",
      "/Users/asahi/opt/anaconda3/lib/python3.8/site-packages/statsmodels/regression/linear_model.py:1650: RuntimeWarning: divide by zero encountered in double_scalars\n",
      "  return np.dot(wresid, wresid) / self.df_resid\n"
     ]
    }
   ],
   "source": [
    "# 目的変数: 重症患者のみの病床使用率 説明変数: 人口\n",
    "# byoushou                       jinnkou\n",
    "formula = \"byoushou~jinnkou\"\n",
    "out1 = smf.ols(formula, data=data).fit()\n",
    "print(out1.summary())"
   ]
  },
  {
   "cell_type": "code",
   "execution_count": 10,
   "id": "e23f9396",
   "metadata": {},
   "outputs": [
    {
     "name": "stdout",
     "output_type": "stream",
     "text": [
      "                            OLS Regression Results                            \n",
      "==============================================================================\n",
      "Dep. Variable:               byoushou   R-squared:                       0.716\n",
      "Model:                            OLS   Adj. R-squared:                  0.710\n",
      "Method:                 Least Squares   F-statistic:                     113.5\n",
      "Date:                Wed, 02 Jun 2021   Prob (F-statistic):           6.93e-14\n",
      "Time:                        13:56:39   Log-Likelihood:                -147.84\n",
      "No. Observations:                  47   AIC:                             299.7\n",
      "Df Residuals:                      45   BIC:                             303.4\n",
      "Df Model:                           1                                         \n",
      "Covariance Type:            nonrobust                                         \n",
      "==============================================================================\n",
      "                 coef    std err          t      P>|t|      [0.025      0.975]\n",
      "------------------------------------------------------------------------------\n",
      "Intercept      2.1889      1.049      2.087      0.043       0.076       4.301\n",
      "ryouyou        2.6989      0.253     10.652      0.000       2.189       3.209\n",
      "==============================================================================\n",
      "Omnibus:                       20.264   Durbin-Watson:                   1.265\n",
      "Prob(Omnibus):                  0.000   Jarque-Bera (JB):               42.111\n",
      "Skew:                           1.134   Prob(JB):                     7.17e-10\n",
      "Kurtosis:                       7.045   Cond. No.                         5.29\n",
      "==============================================================================\n",
      "\n",
      "Notes:\n",
      "[1] Standard Errors assume that the covariance matrix of the errors is correctly specified.\n"
     ]
    }
   ],
   "source": [
    "# 目的変数: 重症患者のみの病床使用率 説明変数: 療養者数\n",
    "# byoushou                          ryouyou\n",
    "formula = \"byoushou~ryouyou\"\n",
    "out2 = smf.ols(formula, data = data).fit()\n",
    "print(out2.summary())"
   ]
  },
  {
   "cell_type": "code",
   "execution_count": 12,
   "id": "16727f61",
   "metadata": {},
   "outputs": [
    {
     "name": "stdout",
     "output_type": "stream",
     "text": [
      "                            OLS Regression Results                            \n",
      "==============================================================================\n",
      "Dep. Variable:               byoushou   R-squared:                       0.653\n",
      "Model:                            OLS   Adj. R-squared:                  0.646\n",
      "Method:                 Least Squares   F-statistic:                     84.82\n",
      "Date:                Wed, 02 Jun 2021   Prob (F-statistic):           6.42e-12\n",
      "Time:                        13:57:33   Log-Likelihood:                -152.52\n",
      "No. Observations:                  47   AIC:                             309.0\n",
      "Df Residuals:                      45   BIC:                             312.7\n",
      "Df Model:                           1                                         \n",
      "Covariance Type:            nonrobust                                         \n",
      "==============================================================================\n",
      "                 coef    std err          t      P>|t|      [0.025      0.975]\n",
      "------------------------------------------------------------------------------\n",
      "Intercept      3.1193      1.119      2.788      0.008       0.866       5.373\n",
      "yousei         5.2600      0.571      9.210      0.000       4.110       6.410\n",
      "==============================================================================\n",
      "Omnibus:                       16.163   Durbin-Watson:                   1.376\n",
      "Prob(Omnibus):                  0.000   Jarque-Bera (JB):               18.448\n",
      "Skew:                           1.341   Prob(JB):                     9.86e-05\n",
      "Kurtosis:                       4.493   Cond. No.                         2.60\n",
      "==============================================================================\n",
      "\n",
      "Notes:\n",
      "[1] Standard Errors assume that the covariance matrix of the errors is correctly specified.\n"
     ]
    }
   ],
   "source": [
    "# 目的変数: 重症患者のみの病床使用率 説明変数: 陽性者数\n",
    "# byoushou                          yousei\n",
    "formula = \"byoushou~yousei\"\n",
    "out3 = smf.ols(formula, data=data).fit()\n",
    "print(out3.summary())"
   ]
  },
  {
   "cell_type": "code",
   "execution_count": null,
   "id": "802d8351",
   "metadata": {},
   "outputs": [],
   "source": []
  }
 ],
 "metadata": {
  "kernelspec": {
   "display_name": "Python 3",
   "language": "python",
   "name": "python3"
  },
  "language_info": {
   "codemirror_mode": {
    "name": "ipython",
    "version": 3
   },
   "file_extension": ".py",
   "mimetype": "text/x-python",
   "name": "python",
   "nbconvert_exporter": "python",
   "pygments_lexer": "ipython3",
   "version": "3.8.3"
  }
 },
 "nbformat": 4,
 "nbformat_minor": 5
}
