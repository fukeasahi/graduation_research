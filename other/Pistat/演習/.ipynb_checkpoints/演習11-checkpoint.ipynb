{
 "cells": [
  {
   "cell_type": "code",
   "execution_count": 21,
   "id": "afff6644",
   "metadata": {},
   "outputs": [],
   "source": [
    "import pandas as pd\n",
    "import statsmodels.formula.api as smf"
   ]
  },
  {
   "cell_type": "code",
   "execution_count": 22,
   "id": "66effd1f",
   "metadata": {},
   "outputs": [
    {
     "data": {
      "text/html": [
       "<div>\n",
       "<style scoped>\n",
       "    .dataframe tbody tr th:only-of-type {\n",
       "        vertical-align: middle;\n",
       "    }\n",
       "\n",
       "    .dataframe tbody tr th {\n",
       "        vertical-align: top;\n",
       "    }\n",
       "\n",
       "    .dataframe thead th {\n",
       "        text-align: right;\n",
       "    }\n",
       "</style>\n",
       "<table border=\"1\" class=\"dataframe\">\n",
       "  <thead>\n",
       "    <tr style=\"text-align: right;\">\n",
       "      <th></th>\n",
       "      <th>id</th>\n",
       "      <th>salary</th>\n",
       "      <th>yearsdg</th>\n",
       "      <th>rank</th>\n",
       "      <th>gender</th>\n",
       "      <th>yearsdgrank</th>\n",
       "      <th>yearsdggender</th>\n",
       "    </tr>\n",
       "  </thead>\n",
       "  <tbody>\n",
       "    <tr>\n",
       "      <th>0</th>\n",
       "      <td>1</td>\n",
       "      <td>6.10</td>\n",
       "      <td>2</td>\n",
       "      <td>0</td>\n",
       "      <td>0</td>\n",
       "      <td>0</td>\n",
       "      <td>0</td>\n",
       "    </tr>\n",
       "    <tr>\n",
       "      <th>1</th>\n",
       "      <td>2</td>\n",
       "      <td>3.10</td>\n",
       "      <td>0</td>\n",
       "      <td>0</td>\n",
       "      <td>0</td>\n",
       "      <td>0</td>\n",
       "      <td>0</td>\n",
       "    </tr>\n",
       "    <tr>\n",
       "      <th>2</th>\n",
       "      <td>3</td>\n",
       "      <td>3.58</td>\n",
       "      <td>1</td>\n",
       "      <td>0</td>\n",
       "      <td>0</td>\n",
       "      <td>0</td>\n",
       "      <td>0</td>\n",
       "    </tr>\n",
       "    <tr>\n",
       "      <th>3</th>\n",
       "      <td>4</td>\n",
       "      <td>4.16</td>\n",
       "      <td>9</td>\n",
       "      <td>0</td>\n",
       "      <td>0</td>\n",
       "      <td>0</td>\n",
       "      <td>0</td>\n",
       "    </tr>\n",
       "    <tr>\n",
       "      <th>4</th>\n",
       "      <td>5</td>\n",
       "      <td>3.70</td>\n",
       "      <td>3</td>\n",
       "      <td>0</td>\n",
       "      <td>0</td>\n",
       "      <td>0</td>\n",
       "      <td>0</td>\n",
       "    </tr>\n",
       "  </tbody>\n",
       "</table>\n",
       "</div>"
      ],
      "text/plain": [
       "   id  salary  yearsdg  rank  gender  yearsdgrank  yearsdggender\n",
       "0   1    6.10        2     0       0            0              0\n",
       "1   2    3.10        0     0       0            0              0\n",
       "2   3    3.58        1     0       0            0              0\n",
       "3   4    4.16        9     0       0            0              0\n",
       "4   5    3.70        3     0       0            0              0"
      ]
     },
     "execution_count": 22,
     "metadata": {},
     "output_type": "execute_result"
    }
   ],
   "source": [
    "data = pd.read_csv(\"/Users/asahi/Desktop/Pistat/salary2.csv\", sep=\",\")\n",
    "data.head()"
   ]
  },
  {
   "cell_type": "code",
   "execution_count": 23,
   "id": "e6a29c25",
   "metadata": {},
   "outputs": [],
   "source": [
    "formula = \"salary~ yearsdg+rank+yearsdgrank+gender+yearsdggender\"\n",
    "out1 = smf.ols(formula, data = data).fit()"
   ]
  },
  {
   "cell_type": "code",
   "execution_count": 24,
   "id": "94197ff5",
   "metadata": {},
   "outputs": [
    {
     "name": "stdout",
     "output_type": "stream",
     "text": [
      "                            OLS Regression Results                            \n",
      "==============================================================================\n",
      "Dep. Variable:                 salary   R-squared:                       0.560\n",
      "Model:                            OLS   Adj. R-squared:                  0.555\n",
      "Method:                 Least Squares   F-statistic:                     129.1\n",
      "Date:                Wed, 23 Jun 2021   Prob (F-statistic):           4.49e-88\n",
      "Time:                        15:28:38   Log-Likelihood:                -639.82\n",
      "No. Observations:                 514   AIC:                             1292.\n",
      "Df Residuals:                     508   BIC:                             1317.\n",
      "Df Model:                           5                                         \n",
      "Covariance Type:            nonrobust                                         \n",
      "=================================================================================\n",
      "                    coef    std err          t      P>|t|      [0.025      0.975]\n",
      "---------------------------------------------------------------------------------\n",
      "Intercept         4.0908      0.102     39.998      0.000       3.890       4.292\n",
      "yearsdg           0.0431      0.008      5.597      0.000       0.028       0.058\n",
      "rank              0.3217      0.268      1.201      0.230      -0.205       0.848\n",
      "yearsdgrank       0.0318      0.013      2.469      0.014       0.006       0.057\n",
      "gender           -0.3409      0.159     -2.145      0.032      -0.653      -0.029\n",
      "yearsdggender    -0.0052      0.011     -0.457      0.648      -0.027       0.017\n",
      "==============================================================================\n",
      "Omnibus:                       55.616   Durbin-Watson:                   1.854\n",
      "Prob(Omnibus):                  0.000   Jarque-Bera (JB):               70.901\n",
      "Skew:                           0.866   Prob(JB):                     4.02e-16\n",
      "Kurtosis:                       3.557   Cond. No.                         168.\n",
      "==============================================================================\n",
      "\n",
      "Notes:\n",
      "[1] Standard Errors assume that the covariance matrix of the errors is correctly specified.\n"
     ]
    }
   ],
   "source": [
    "print(out1.summary())"
   ]
  },
  {
   "cell_type": "code",
   "execution_count": null,
   "id": "d1e4c659",
   "metadata": {},
   "outputs": [],
   "source": []
  },
  {
   "cell_type": "code",
   "execution_count": null,
   "id": "768f9455",
   "metadata": {},
   "outputs": [],
   "source": []
  },
  {
   "cell_type": "code",
   "execution_count": null,
   "id": "ae9d4460",
   "metadata": {},
   "outputs": [],
   "source": []
  },
  {
   "cell_type": "code",
   "execution_count": 80,
   "id": "4468ca7e",
   "metadata": {},
   "outputs": [],
   "source": [
    "import sympy as sym"
   ]
  },
  {
   "cell_type": "code",
   "execution_count": 81,
   "id": "0dbe3f02",
   "metadata": {},
   "outputs": [],
   "source": [
    "y, b0, b1, b2, b3, b4, b5, x1, d1, d2 = sym.symbols(\"y b0 b1 b2 b3 b4 b5 x1 d1 d2\")"
   ]
  },
  {
   "cell_type": "code",
   "execution_count": 82,
   "id": "a2237766",
   "metadata": {},
   "outputs": [],
   "source": [
    "def d1_0():\n",
    "    b0 = 4.0908\n",
    "    b1 = 0.0431\n",
    "    b2 = 0.3217\n",
    "    b3 = 0.0318\n",
    "    b4 = -0.3409\n",
    "    b5 = -0.0052\n",
    "\n",
    "    d1 = 0\n",
    "    \n",
    "    y = b0 + b1*x1 + b2*d1 + b3*x1*d1 + b4*d2 + b5*x1*d2\n",
    "    \n",
    "    print(y)"
   ]
  },
  {
   "cell_type": "code",
   "execution_count": null,
   "id": "8c6c7f85",
   "metadata": {},
   "outputs": [],
   "source": []
  },
  {
   "cell_type": "code",
   "execution_count": 83,
   "id": "f6e766bd",
   "metadata": {},
   "outputs": [],
   "source": [
    "def d1_1():\n",
    "    b0 = 4.0908\n",
    "    b1 = 0.0431\n",
    "    b2 = 0.3217\n",
    "    b3 = 0.0318\n",
    "    b4 = -0.3409\n",
    "    b5 = -0.0052 \n",
    "    \n",
    "    d1 = 1\n",
    "    \n",
    "    y = b0 + b1*x1 + b2*d1 + b3*x1*d1 + b4*d2 + b5*x1*d2\n",
    "    \n",
    "    print(y)"
   ]
  },
  {
   "cell_type": "code",
   "execution_count": null,
   "id": "1ff1df3b",
   "metadata": {},
   "outputs": [],
   "source": []
  },
  {
   "cell_type": "code",
   "execution_count": null,
   "id": "3641efbb",
   "metadata": {},
   "outputs": [],
   "source": []
  },
  {
   "cell_type": "code",
   "execution_count": 84,
   "id": "9f168a5e",
   "metadata": {},
   "outputs": [],
   "source": [
    "def d2_0():\n",
    "    b0 = 4.0908\n",
    "    b1 = 0.0431\n",
    "    b2 = 0.3217\n",
    "    b3 = 0.0318\n",
    "    b4 = -0.3409\n",
    "    b5 = -0.0052 \n",
    "    \n",
    "    d2 = 0\n",
    "    \n",
    "    y = b0 + b1*x1 + b2*d1 + b3*x1*d1 + b4*d2 + b5*x1*d2\n",
    "    \n",
    "    print(y)"
   ]
  },
  {
   "cell_type": "code",
   "execution_count": null,
   "id": "b5993543",
   "metadata": {},
   "outputs": [],
   "source": []
  },
  {
   "cell_type": "code",
   "execution_count": 85,
   "id": "4e2787be",
   "metadata": {},
   "outputs": [],
   "source": [
    "def d2_1():\n",
    "    b0 = 4.0908\n",
    "    b1 = 0.0431\n",
    "    b2 = 0.3217\n",
    "    b3 = 0.0318\n",
    "    b4 = -0.3409\n",
    "    b5 = -0.0052 \n",
    "\n",
    "    d2 = 1\n",
    "\n",
    "    y = b0 + b1*x1 + b2*d1 + b3*x1*d1 + b4*d2 + b5*x1*d2\n",
    "\n",
    "    print(y)"
   ]
  },
  {
   "cell_type": "code",
   "execution_count": 86,
   "id": "5cdb8f73",
   "metadata": {},
   "outputs": [
    {
     "name": "stdout",
     "output_type": "stream",
     "text": [
      "-0.0052*d2*x1 - 0.3409*d2 + 0.0431*x1 + 4.0908\n"
     ]
    }
   ],
   "source": [
    "d1_0()"
   ]
  },
  {
   "cell_type": "code",
   "execution_count": 87,
   "id": "257ab112",
   "metadata": {},
   "outputs": [
    {
     "name": "stdout",
     "output_type": "stream",
     "text": [
      "-0.0052*d2*x1 - 0.3409*d2 + 0.0749*x1 + 4.4125\n"
     ]
    }
   ],
   "source": [
    "d1_1()"
   ]
  },
  {
   "cell_type": "code",
   "execution_count": 88,
   "id": "3285a202",
   "metadata": {},
   "outputs": [
    {
     "name": "stdout",
     "output_type": "stream",
     "text": [
      "0.0318*d1*x1 + 0.3217*d1 + 0.0431*x1 + 4.0908\n"
     ]
    }
   ],
   "source": [
    "d2_0()"
   ]
  },
  {
   "cell_type": "code",
   "execution_count": 89,
   "id": "b5054b0e",
   "metadata": {},
   "outputs": [
    {
     "name": "stdout",
     "output_type": "stream",
     "text": [
      "0.0318*d1*x1 + 0.3217*d1 + 0.0379*x1 + 3.7499\n"
     ]
    }
   ],
   "source": [
    "d2_1()"
   ]
  },
  {
   "cell_type": "code",
   "execution_count": null,
   "id": "42a1d888",
   "metadata": {},
   "outputs": [],
   "source": []
  }
 ],
 "metadata": {
  "kernelspec": {
   "display_name": "Python 3",
   "language": "python",
   "name": "python3"
  },
  "language_info": {
   "codemirror_mode": {
    "name": "ipython",
    "version": 3
   },
   "file_extension": ".py",
   "mimetype": "text/x-python",
   "name": "python",
   "nbconvert_exporter": "python",
   "pygments_lexer": "ipython3",
   "version": "3.8.3"
  }
 },
 "nbformat": 4,
 "nbformat_minor": 5
}
