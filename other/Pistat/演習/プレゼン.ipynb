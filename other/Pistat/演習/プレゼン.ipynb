{
 "cells": [
  {
   "cell_type": "code",
   "execution_count": 9,
   "id": "90a40640",
   "metadata": {},
   "outputs": [],
   "source": [
    "import pandas as pd"
   ]
  },
  {
   "cell_type": "code",
   "execution_count": 10,
   "id": "fa8f7389",
   "metadata": {},
   "outputs": [
    {
     "data": {
      "text/html": [
       "<div>\n",
       "<style scoped>\n",
       "    .dataframe tbody tr th:only-of-type {\n",
       "        vertical-align: middle;\n",
       "    }\n",
       "\n",
       "    .dataframe tbody tr th {\n",
       "        vertical-align: top;\n",
       "    }\n",
       "\n",
       "    .dataframe thead th {\n",
       "        text-align: right;\n",
       "    }\n",
       "</style>\n",
       "<table border=\"1\" class=\"dataframe\">\n",
       "  <thead>\n",
       "    <tr style=\"text-align: right;\">\n",
       "      <th></th>\n",
       "      <th>year</th>\n",
       "      <th>crime</th>\n",
       "      <th>unemployment_rate</th>\n",
       "      <th>suicide</th>\n",
       "      <th>overtime_working_hours</th>\n",
       "    </tr>\n",
       "  </thead>\n",
       "  <tbody>\n",
       "    <tr>\n",
       "      <th>0</th>\n",
       "      <td>16</td>\n",
       "      <td>127687</td>\n",
       "      <td>4.7</td>\n",
       "      <td>3436</td>\n",
       "      <td>124</td>\n",
       "    </tr>\n",
       "    <tr>\n",
       "      <th>1</th>\n",
       "      <td>17</td>\n",
       "      <td>127757</td>\n",
       "      <td>4.4</td>\n",
       "      <td>3255</td>\n",
       "      <td>124</td>\n",
       "    </tr>\n",
       "    <tr>\n",
       "      <th>2</th>\n",
       "      <td>18</td>\n",
       "      <td>127768</td>\n",
       "      <td>4.1</td>\n",
       "      <td>3010</td>\n",
       "      <td>129</td>\n",
       "    </tr>\n",
       "    <tr>\n",
       "      <th>3</th>\n",
       "      <td>19</td>\n",
       "      <td>127767</td>\n",
       "      <td>3.8</td>\n",
       "      <td>7318</td>\n",
       "      <td>132</td>\n",
       "    </tr>\n",
       "    <tr>\n",
       "      <th>4</th>\n",
       "      <td>20</td>\n",
       "      <td>127692</td>\n",
       "      <td>4.0</td>\n",
       "      <td>7404</td>\n",
       "      <td>129</td>\n",
       "    </tr>\n",
       "    <tr>\n",
       "      <th>5</th>\n",
       "      <td>21</td>\n",
       "      <td>127510</td>\n",
       "      <td>5.1</td>\n",
       "      <td>8377</td>\n",
       "      <td>111</td>\n",
       "    </tr>\n",
       "    <tr>\n",
       "      <th>6</th>\n",
       "      <td>22</td>\n",
       "      <td>128056</td>\n",
       "      <td>5.1</td>\n",
       "      <td>7438</td>\n",
       "      <td>120</td>\n",
       "    </tr>\n",
       "    <tr>\n",
       "      <th>7</th>\n",
       "      <td>23</td>\n",
       "      <td>127799</td>\n",
       "      <td>4.6</td>\n",
       "      <td>6406</td>\n",
       "      <td>120</td>\n",
       "    </tr>\n",
       "    <tr>\n",
       "      <th>8</th>\n",
       "      <td>24</td>\n",
       "      <td>127515</td>\n",
       "      <td>4.3</td>\n",
       "      <td>5219</td>\n",
       "      <td>125</td>\n",
       "    </tr>\n",
       "    <tr>\n",
       "      <th>9</th>\n",
       "      <td>25</td>\n",
       "      <td>127298</td>\n",
       "      <td>4.0</td>\n",
       "      <td>4634</td>\n",
       "      <td>127</td>\n",
       "    </tr>\n",
       "    <tr>\n",
       "      <th>10</th>\n",
       "      <td>26</td>\n",
       "      <td>127083</td>\n",
       "      <td>3.6</td>\n",
       "      <td>4144</td>\n",
       "      <td>132</td>\n",
       "    </tr>\n",
       "    <tr>\n",
       "      <th>11</th>\n",
       "      <td>27</td>\n",
       "      <td>127095</td>\n",
       "      <td>3.4</td>\n",
       "      <td>4082</td>\n",
       "      <td>132</td>\n",
       "    </tr>\n",
       "  </tbody>\n",
       "</table>\n",
       "</div>"
      ],
      "text/plain": [
       "    year   crime  unemployment_rate  suicide  overtime_working_hours\n",
       "0     16  127687                4.7     3436                     124\n",
       "1     17  127757                4.4     3255                     124\n",
       "2     18  127768                4.1     3010                     129\n",
       "3     19  127767                3.8     7318                     132\n",
       "4     20  127692                4.0     7404                     129\n",
       "5     21  127510                5.1     8377                     111\n",
       "6     22  128056                5.1     7438                     120\n",
       "7     23  127799                4.6     6406                     120\n",
       "8     24  127515                4.3     5219                     125\n",
       "9     25  127298                4.0     4634                     127\n",
       "10    26  127083                3.6     4144                     132\n",
       "11    27  127095                3.4     4082                     132"
      ]
     },
     "execution_count": 10,
     "metadata": {},
     "output_type": "execute_result"
    }
   ],
   "source": [
    "data = pd.read_csv(\"/Users/Asahi/Desktop/Pistat/統計データ改2.csv\", sep=\",\")\n",
    "data"
   ]
  },
  {
   "cell_type": "code",
   "execution_count": 11,
   "id": "e2c98a43",
   "metadata": {},
   "outputs": [
    {
     "data": {
      "text/html": [
       "<div>\n",
       "<style scoped>\n",
       "    .dataframe tbody tr th:only-of-type {\n",
       "        vertical-align: middle;\n",
       "    }\n",
       "\n",
       "    .dataframe tbody tr th {\n",
       "        vertical-align: top;\n",
       "    }\n",
       "\n",
       "    .dataframe thead th {\n",
       "        text-align: right;\n",
       "    }\n",
       "</style>\n",
       "<table border=\"1\" class=\"dataframe\">\n",
       "  <thead>\n",
       "    <tr style=\"text-align: right;\">\n",
       "      <th></th>\n",
       "      <th>year</th>\n",
       "      <th>crime</th>\n",
       "      <th>unemployment_rate</th>\n",
       "      <th>suicide</th>\n",
       "      <th>overtime_working_hours</th>\n",
       "    </tr>\n",
       "  </thead>\n",
       "  <tbody>\n",
       "    <tr>\n",
       "      <th>year</th>\n",
       "      <td>1.000000</td>\n",
       "      <td>-0.690098</td>\n",
       "      <td>-0.412679</td>\n",
       "      <td>0.079817</td>\n",
       "      <td>0.187758</td>\n",
       "    </tr>\n",
       "    <tr>\n",
       "      <th>crime</th>\n",
       "      <td>-0.690098</td>\n",
       "      <td>1.000000</td>\n",
       "      <td>0.648129</td>\n",
       "      <td>0.324506</td>\n",
       "      <td>-0.379129</td>\n",
       "    </tr>\n",
       "    <tr>\n",
       "      <th>unemployment_rate</th>\n",
       "      <td>-0.412679</td>\n",
       "      <td>0.648129</td>\n",
       "      <td>1.000000</td>\n",
       "      <td>0.395224</td>\n",
       "      <td>-0.912976</td>\n",
       "    </tr>\n",
       "    <tr>\n",
       "      <th>suicide</th>\n",
       "      <td>0.079817</td>\n",
       "      <td>0.324506</td>\n",
       "      <td>0.395224</td>\n",
       "      <td>1.000000</td>\n",
       "      <td>-0.462319</td>\n",
       "    </tr>\n",
       "    <tr>\n",
       "      <th>overtime_working_hours</th>\n",
       "      <td>0.187758</td>\n",
       "      <td>-0.379129</td>\n",
       "      <td>-0.912976</td>\n",
       "      <td>-0.462319</td>\n",
       "      <td>1.000000</td>\n",
       "    </tr>\n",
       "  </tbody>\n",
       "</table>\n",
       "</div>"
      ],
      "text/plain": [
       "                            year     crime  unemployment_rate   suicide  \\\n",
       "year                    1.000000 -0.690098          -0.412679  0.079817   \n",
       "crime                  -0.690098  1.000000           0.648129  0.324506   \n",
       "unemployment_rate      -0.412679  0.648129           1.000000  0.395224   \n",
       "suicide                 0.079817  0.324506           0.395224  1.000000   \n",
       "overtime_working_hours  0.187758 -0.379129          -0.912976 -0.462319   \n",
       "\n",
       "                        overtime_working_hours  \n",
       "year                                  0.187758  \n",
       "crime                                -0.379129  \n",
       "unemployment_rate                    -0.912976  \n",
       "suicide                              -0.462319  \n",
       "overtime_working_hours                1.000000  "
      ]
     },
     "execution_count": 11,
     "metadata": {},
     "output_type": "execute_result"
    }
   ],
   "source": [
    "data.corr(method=\"pearson\")"
   ]
  },
  {
   "cell_type": "code",
   "execution_count": null,
   "id": "01b50603",
   "metadata": {},
   "outputs": [],
   "source": []
  },
  {
   "cell_type": "code",
   "execution_count": 19,
   "id": "94c09b89",
   "metadata": {},
   "outputs": [
    {
     "data": {
      "image/png": "[encoded data removed]",
      "text/plain": [
       "<Figure size 432x288 with 1 Axes>"
      ]
     },
     "metadata": {
      "needs_background": "light"
     },
     "output_type": "display_data"
    }
   ],
   "source": [
    "def scatter(x, y):\n",
    "    import matplotlib.pyplot as plt\n",
    "    plt.scatter(data[x], data[y], alpha=.5)\n",
    "    plt.grid(True)\n",
    "    plt.ylabel(y)\n",
    "    plt.xlabel(x)\n",
    "\n",
    "scatter(\"overtime_working_hours\", \"unemployment_rate\",)"
   ]
  },
  {
   "cell_type": "code",
   "execution_count": 13,
   "id": "40916f86",
   "metadata": {},
   "outputs": [
    {
     "data": {
      "image/png": "[encoded data removed]",
      "text/plain": [
       "<Figure size 432x288 with 1 Axes>"
      ]
     },
     "metadata": {
      "needs_background": "light"
     },
     "output_type": "display_data"
    }
   ],
   "source": [
    "scatter(\"crime\", \"unemployment_rate\")"
   ]
  },
  {
   "cell_type": "code",
   "execution_count": 14,
   "id": "59564442",
   "metadata": {},
   "outputs": [
    {
     "data": {
      "image/png": "[encoded data removed]",
      "text/plain": [
       "<Figure size 432x288 with 1 Axes>"
      ]
     },
     "metadata": {
      "needs_background": "light"
     },
     "output_type": "display_data"
    }
   ],
   "source": [
    "scatter(\"suicide\", \"unemployment_rate\")"
   ]
  },
  {
   "cell_type": "code",
   "execution_count": null,
   "id": "c9183965",
   "metadata": {},
   "outputs": [],
   "source": []
  },
  {
   "cell_type": "code",
   "execution_count": null,
   "id": "f44070d1",
   "metadata": {},
   "outputs": [],
   "source": []
  }
 ],
 "metadata": {
  "kernelspec": {
   "display_name": "Python 3",
   "language": "python",
   "name": "python3"
  },
  "language_info": {
   "codemirror_mode": {
    "name": "ipython",
    "version": 3
   },
   "file_extension": ".py",
   "mimetype": "text/x-python",
   "name": "python",
   "nbconvert_exporter": "python",
   "pygments_lexer": "ipython3",
   "version": "3.8.3"
  }
 },
 "nbformat": 4,
 "nbformat_minor": 5
}
