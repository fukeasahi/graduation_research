{
 "cells": [
  {
   "cell_type": "code",
   "execution_count": 22,
   "id": "a5d05caf",
   "metadata": {},
   "outputs": [],
   "source": [
    "import pandas as pd"
   ]
  },
  {
   "cell_type": "code",
   "execution_count": 23,
   "id": "dc347127",
   "metadata": {},
   "outputs": [],
   "source": [
    "data = pd.read_csv(\"/Users/asahi/Desktop/Pistat/Enshu3.csv\")"
   ]
  },
  {
   "cell_type": "code",
   "execution_count": 24,
   "id": "2c2f4b4c",
   "metadata": {},
   "outputs": [
    {
     "data": {
      "text/html": [
       "<div>\n",
       "<style scoped>\n",
       "    .dataframe tbody tr th:only-of-type {\n",
       "        vertical-align: middle;\n",
       "    }\n",
       "\n",
       "    .dataframe tbody tr th {\n",
       "        vertical-align: top;\n",
       "    }\n",
       "\n",
       "    .dataframe thead th {\n",
       "        text-align: right;\n",
       "    }\n",
       "</style>\n",
       "<table border=\"1\" class=\"dataframe\">\n",
       "  <thead>\n",
       "    <tr style=\"text-align: right;\">\n",
       "      <th></th>\n",
       "      <th>pref</th>\n",
       "      <th>jinnkou</th>\n",
       "      <th>byoushou</th>\n",
       "      <th>jyuushou</th>\n",
       "      <th>ryouyou</th>\n",
       "      <th>yousei</th>\n",
       "    </tr>\n",
       "  </thead>\n",
       "  <tbody>\n",
       "    <tr>\n",
       "      <th>0</th>\n",
       "      <td>1</td>\n",
       "      <td>5,250</td>\n",
       "      <td>3.51</td>\n",
       "      <td>1.1</td>\n",
       "      <td>2.1</td>\n",
       "      <td>1.85</td>\n",
       "    </tr>\n",
       "    <tr>\n",
       "      <th>1</th>\n",
       "      <td>2</td>\n",
       "      <td>1,246</td>\n",
       "      <td>0.00</td>\n",
       "      <td>0.0</td>\n",
       "      <td>0.0</td>\n",
       "      <td>0.00</td>\n",
       "    </tr>\n",
       "    <tr>\n",
       "      <th>2</th>\n",
       "      <td>3</td>\n",
       "      <td>1,227</td>\n",
       "      <td>0.00</td>\n",
       "      <td>0.0</td>\n",
       "      <td>0.0</td>\n",
       "      <td>0.00</td>\n",
       "    </tr>\n",
       "    <tr>\n",
       "      <th>3</th>\n",
       "      <td>4</td>\n",
       "      <td>2,306</td>\n",
       "      <td>13.04</td>\n",
       "      <td>0.0</td>\n",
       "      <td>3.3</td>\n",
       "      <td>1.60</td>\n",
       "    </tr>\n",
       "    <tr>\n",
       "      <th>4</th>\n",
       "      <td>5</td>\n",
       "      <td>966</td>\n",
       "      <td>0.00</td>\n",
       "      <td>0.0</td>\n",
       "      <td>0.2</td>\n",
       "      <td>0.21</td>\n",
       "    </tr>\n",
       "  </tbody>\n",
       "</table>\n",
       "</div>"
      ],
      "text/plain": [
       "   pref jinnkou  byoushou  jyuushou  ryouyou  yousei\n",
       "0     1   5,250      3.51       1.1      2.1    1.85\n",
       "1     2   1,246      0.00       0.0      0.0    0.00\n",
       "2     3   1,227      0.00       0.0      0.0    0.00\n",
       "3     4   2,306     13.04       0.0      3.3    1.60\n",
       "4     5     966      0.00       0.0      0.2    0.21"
      ]
     },
     "execution_count": 24,
     "metadata": {},
     "output_type": "execute_result"
    }
   ],
   "source": [
    "data.head()"
   ]
  },
  {
   "cell_type": "code",
   "execution_count": 28,
   "id": "397eddeb",
   "metadata": {},
   "outputs": [
    {
     "name": "stdout",
     "output_type": "stream",
     "text": [
      "                            OLS Regression Results                            \n",
      "==============================================================================\n",
      "Dep. Variable:               jyuushou   R-squared:                       1.000\n",
      "Model:                            OLS   Adj. R-squared:                    nan\n",
      "Method:                 Least Squares   F-statistic:                       nan\n",
      "Date:                Wed, 02 Jun 2021   Prob (F-statistic):                nan\n",
      "Time:                        14:07:10   Log-Likelihood:                 1457.0\n",
      "No. Observations:                  47   AIC:                            -2820.\n",
      "Df Residuals:                       0   BIC:                            -2733.\n",
      "Df Model:                          46                                         \n",
      "Covariance Type:            nonrobust                                         \n",
      "=====================================================================================\n",
      "                        coef    std err          t      P>|t|      [0.025      0.975]\n",
      "-------------------------------------------------------------------------------------\n",
      "Intercept          -1.12e-14        inf         -0        nan         nan         nan\n",
      "jinnkou[T.1,073]   2.816e-15        inf          0        nan         nan         nan\n",
      "jinnkou[T.1,078]      3.8500        inf          0        nan         nan         nan\n",
      "jinnkou[T.1,135]   6.727e-15        inf          0        nan         nan         nan\n",
      "jinnkou[T.1,138]     14.2900        inf          0        nan         nan         nan\n",
      "jinnkou[T.1,227]   6.318e-15        inf          0        nan         nan         nan\n",
      "jinnkou[T.1,246]   1.735e-14        inf          0        nan         nan         nan\n",
      "jinnkou[T.1,327]   1.388e-14        inf          0        nan         nan         nan\n",
      "jinnkou[T.1,330]   1.171e-14        inf          0        nan         nan         nan\n",
      "jinnkou[T.1,339]   1.511e-14        inf          0        nan         nan         nan\n",
      "jinnkou[T.1,358]      0.9800        inf          0        nan         nan         nan\n",
      "jinnkou[T.1,414]      4.4400        inf          0        nan         nan         nan\n",
      "jinnkou[T.1,453]     32.0800        inf          0        nan         nan         nan\n",
      "jinnkou[T.1,602]   1.722e-14        inf          0        nan         nan         nan\n",
      "jinnkou[T.1,748]   5.113e-15        inf          0        nan         nan         nan\n",
      "jinnkou[T.1,781]      9.8000        inf          0        nan         nan         nan\n",
      "jinnkou[T.1,846]      4.7600        inf          0        nan         nan         nan\n",
      "jinnkou[T.1,890]   4.592e-15        inf          0        nan         nan         nan\n",
      "jinnkou[T.1,934]      2.4400        inf          0        nan         nan         nan\n",
      "jinnkou[T.1,942]    2.28e-14        inf          0        nan         nan         nan\n",
      "jinnkou[T.1,987]      1.9600        inf          0        nan         nan         nan\n",
      "jinnkou[T.13,921]    23.8000        inf          0        nan         nan         nan\n",
      "jinnkou[T.2,049]   7.737e-15        inf          0        nan         nan         nan\n",
      "jinnkou[T.2,223]      0.8900        inf          0        nan         nan         nan\n",
      "jinnkou[T.2,306]    8.04e-15        inf          0        nan         nan         nan\n",
      "jinnkou[T.2,583]     17.4400        inf          0        nan         nan         nan\n",
      "jinnkou[T.2,804]      1.3900        inf          0        nan         nan         nan\n",
      "jinnkou[T.2,860]      6.9400        inf          0        nan         nan         nan\n",
      "jinnkou[T.3,644]      2.9400        inf          0        nan         nan         nan\n",
      "jinnkou[T.5,104]     20.0000        inf          0        nan         nan         nan\n",
      "jinnkou[T.5,250]      1.1000        inf          0        nan         nan         nan\n",
      "jinnkou[T.5,466]      7.2700        inf          0        nan         nan         nan\n",
      "jinnkou[T.556]     1.253e-14        inf          0        nan         nan         nan\n",
      "jinnkou[T.6,259]      5.9400        inf          0        nan         nan         nan\n",
      "jinnkou[T.674]      6.98e-15        inf          0        nan         nan         nan\n",
      "jinnkou[T.698]     5.325e-15        inf          0        nan         nan         nan\n",
      "jinnkou[T.7,350]      4.6900        inf          0        nan         nan         nan\n",
      "jinnkou[T.7,552]     20.0000        inf          0        nan         nan         nan\n",
      "jinnkou[T.728]     1.331e-14        inf          0        nan         nan         nan\n",
      "jinnkou[T.768]        8.3300        inf          0        nan         nan         nan\n",
      "jinnkou[T.8,809]     17.9600        inf          0        nan         nan         nan\n",
      "jinnkou[T.811]        4.1700        inf          0        nan         nan         nan\n",
      "jinnkou[T.815]     3.087e-14        inf          0        nan         nan         nan\n",
      "jinnkou[T.9,198]     12.0000        inf          0        nan         nan         nan\n",
      "jinnkou[T.925]     1.077e-14        inf          0        nan         nan         nan\n",
      "jinnkou[T.956]      1.06e-14        inf          0        nan         nan         nan\n",
      "jinnkou[T.966]     1.509e-14        inf          0        nan         nan         nan\n",
      "==============================================================================\n",
      "Omnibus:                        3.218   Durbin-Watson:                   1.514\n",
      "Prob(Omnibus):                  0.200   Jarque-Bera (JB):                2.539\n",
      "Skew:                          -0.180   Prob(JB):                        0.281\n",
      "Kurtosis:                       4.081   Cond. No.                         48.0\n",
      "==============================================================================\n",
      "\n",
      "Notes:\n",
      "[1] Standard Errors assume that the covariance matrix of the errors is correctly specified.\n"
     ]
    },
    {
     "name": "stderr",
     "output_type": "stream",
     "text": [
      "/Users/asahi/opt/anaconda3/lib/python3.8/site-packages/statsmodels/regression/linear_model.py:1728: RuntimeWarning: divide by zero encountered in true_divide\n",
      "  return 1 - (np.divide(self.nobs - self.k_constant, self.df_resid)\n",
      "/Users/asahi/opt/anaconda3/lib/python3.8/site-packages/statsmodels/regression/linear_model.py:1728: RuntimeWarning: invalid value encountered in double_scalars\n",
      "  return 1 - (np.divide(self.nobs - self.k_constant, self.df_resid)\n",
      "/Users/asahi/opt/anaconda3/lib/python3.8/site-packages/statsmodels/regression/linear_model.py:1650: RuntimeWarning: divide by zero encountered in double_scalars\n",
      "  return np.dot(wresid, wresid) / self.df_resid\n"
     ]
    }
   ],
   "source": [
    "import statsmodels.formula.api as smf\n",
    "# 目的変数: 重症患者のみの病床使用率 説明変数: 人口\n",
    "# byoushou                       jinnkou\n",
    "formula = \"jyuushou~jinnkou\"\n",
    "out1 = smf.ols(formula, data=data).fit()\n",
    "print(out1.summary())"
   ]
  },
  {
   "cell_type": "code",
   "execution_count": 29,
   "id": "c3fb7b84",
   "metadata": {},
   "outputs": [
    {
     "name": "stdout",
     "output_type": "stream",
     "text": [
      "                            OLS Regression Results                            \n",
      "==============================================================================\n",
      "Dep. Variable:               jyuushou   R-squared:                       0.593\n",
      "Model:                            OLS   Adj. R-squared:                  0.584\n",
      "Method:                 Least Squares   F-statistic:                     65.56\n",
      "Date:                Wed, 02 Jun 2021   Prob (F-statistic):           2.49e-10\n",
      "Time:                        14:07:13   Log-Likelihood:                -140.51\n",
      "No. Observations:                  47   AIC:                             285.0\n",
      "Df Residuals:                      45   BIC:                             288.7\n",
      "Df Model:                           1                                         \n",
      "Covariance Type:            nonrobust                                         \n",
      "==============================================================================\n",
      "                 coef    std err          t      P>|t|      [0.025      0.975]\n",
      "------------------------------------------------------------------------------\n",
      "Intercept      0.5121      0.897      0.571      0.571      -1.296       2.320\n",
      "ryouyou        1.7555      0.217      8.097      0.000       1.319       2.192\n",
      "==============================================================================\n",
      "Omnibus:                       10.031   Durbin-Watson:                   1.436\n",
      "Prob(Omnibus):                  0.007   Jarque-Bera (JB):               11.161\n",
      "Skew:                           0.762   Prob(JB):                      0.00377\n",
      "Kurtosis:                       4.837   Cond. No.                         5.29\n",
      "==============================================================================\n",
      "\n",
      "Notes:\n",
      "[1] Standard Errors assume that the covariance matrix of the errors is correctly specified.\n"
     ]
    }
   ],
   "source": [
    "# 目的変数: 重症患者のみの病床使用率 説明変数: 療養者数\n",
    "# byoushou                          ryouyou\n",
    "formula = \"jyuushou~ryouyou\"\n",
    "out2 = smf.ols(formula, data = data).fit()\n",
    "print(out2.summary())"
   ]
  },
  {
   "cell_type": "code",
   "execution_count": 30,
   "id": "5210c2ae",
   "metadata": {},
   "outputs": [
    {
     "name": "stdout",
     "output_type": "stream",
     "text": [
      "                            OLS Regression Results                            \n",
      "==============================================================================\n",
      "Dep. Variable:               jyuushou   R-squared:                       0.501\n",
      "Model:                            OLS   Adj. R-squared:                  0.489\n",
      "Method:                 Least Squares   F-statistic:                     45.10\n",
      "Date:                Wed, 02 Jun 2021   Prob (F-statistic):           2.70e-08\n",
      "Time:                        14:07:16   Log-Likelihood:                -145.33\n",
      "No. Observations:                  47   AIC:                             294.7\n",
      "Df Residuals:                      45   BIC:                             298.4\n",
      "Df Model:                           1                                         \n",
      "Covariance Type:            nonrobust                                         \n",
      "==============================================================================\n",
      "                 coef    std err          t      P>|t|      [0.025      0.975]\n",
      "------------------------------------------------------------------------------\n",
      "Intercept      1.2611      0.960      1.314      0.196      -0.673       3.195\n",
      "yousei         3.2905      0.490      6.715      0.000       2.304       4.277\n",
      "==============================================================================\n",
      "Omnibus:                       11.987   Durbin-Watson:                   1.482\n",
      "Prob(Omnibus):                  0.002   Jarque-Bera (JB):               17.275\n",
      "Skew:                           0.755   Prob(JB):                     0.000177\n",
      "Kurtosis:                       5.558   Cond. No.                         2.60\n",
      "==============================================================================\n",
      "\n",
      "Notes:\n",
      "[1] Standard Errors assume that the covariance matrix of the errors is correctly specified.\n"
     ]
    }
   ],
   "source": [
    "# 目的変数: 重症患者のみの病床使用率 説明変数: 陽性者数\n",
    "# byoushou                          yousei\n",
    "formula = \"jyuushou~yousei\"\n",
    "out3 = smf.ols(formula, data=data).fit()\n",
    "print(out3.summary())"
   ]
  },
  {
   "cell_type": "code",
   "execution_count": null,
   "id": "b6f97d04",
   "metadata": {},
   "outputs": [],
   "source": []
  }
 ],
 "metadata": {
  "kernelspec": {
   "display_name": "Python 3",
   "language": "python",
   "name": "python3"
  },
  "language_info": {
   "codemirror_mode": {
    "name": "ipython",
    "version": 3
   },
   "file_extension": ".py",
   "mimetype": "text/x-python",
   "name": "python",
   "nbconvert_exporter": "python",
   "pygments_lexer": "ipython3",
   "version": "3.8.3"
  }
 },
 "nbformat": 4,
 "nbformat_minor": 5
}
