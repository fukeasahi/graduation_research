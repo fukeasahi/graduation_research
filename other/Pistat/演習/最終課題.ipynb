
{
 "cells": [
  {
   "cell_type": "code",
   "execution_count": 3,
   "id": "0062fc07",
   "metadata": {},
   "outputs": [],
   "source": [
    "import pandas as pd\n",
    "import numpy as np\n",
    "import matplotlib.pyplot as plt"
   ]
  },
  {
   "cell_type": "code",
   "execution_count": 15,
   "id": "4fb6cb05",
   "metadata": {},
   "outputs": [
    {
     "data": {
      "text/html": [
       "<div>\n",
       "<style scoped>\n",
       "    .dataframe tbody tr th:only-of-type {\n",
       "        vertical-align: middle;\n",
       "    }\n",
       "\n",
       "    .dataframe tbody tr th {\n",
       "        vertical-align: top;\n",
       "    }\n",
       "\n",
       "    .dataframe thead th {\n",
       "        text-align: right;\n",
       "    }\n",
       "</style>\n",
       "<table border=\"1\" class=\"dataframe\">\n",
       "  <thead>\n",
       "    <tr style=\"text-align: right;\">\n",
       "      <th></th>\n",
       "      <th>testscore</th>\n",
       "      <th>attend</th>\n",
       "      <th>gpa</th>\n",
       "      <th>act</th>\n",
       "      <th>attendact</th>\n",
       "      <th>gpaact</th>\n",
       "    </tr>\n",
       "  </thead>\n",
       "  <tbody>\n",
       "    <tr>\n",
       "      <th>0</th>\n",
       "      <td>54.7269</td>\n",
       "      <td>84.375</td>\n",
       "      <td>2.64</td>\n",
       "      <td>0</td>\n",
       "      <td>0.00</td>\n",
       "      <td>0.00</td>\n",
       "    </tr>\n",
       "    <tr>\n",
       "      <th>1</th>\n",
       "      <td>50.5252</td>\n",
       "      <td>68.750</td>\n",
       "      <td>3.52</td>\n",
       "      <td>1</td>\n",
       "      <td>68.75</td>\n",
       "      <td>3.52</td>\n",
       "    </tr>\n",
       "    <tr>\n",
       "      <th>2</th>\n",
       "      <td>58.9286</td>\n",
       "      <td>93.750</td>\n",
       "      <td>2.46</td>\n",
       "      <td>1</td>\n",
       "      <td>93.75</td>\n",
       "      <td>2.46</td>\n",
       "    </tr>\n",
       "    <tr>\n",
       "      <th>3</th>\n",
       "      <td>52.6261</td>\n",
       "      <td>96.875</td>\n",
       "      <td>2.61</td>\n",
       "      <td>0</td>\n",
       "      <td>0.00</td>\n",
       "      <td>0.00</td>\n",
       "    </tr>\n",
       "    <tr>\n",
       "      <th>4</th>\n",
       "      <td>67.3319</td>\n",
       "      <td>100.000</td>\n",
       "      <td>3.32</td>\n",
       "      <td>0</td>\n",
       "      <td>0.00</td>\n",
       "      <td>0.00</td>\n",
       "    </tr>\n",
       "  </tbody>\n",
       "</table>\n",
       "</div>"
      ],
      "text/plain": [
       "   testscore   attend   gpa  act  attendact  gpaact\n",
       "0    54.7269   84.375  2.64    0       0.00    0.00\n",
       "1    50.5252   68.750  3.52    1      68.75    3.52\n",
       "2    58.9286   93.750  2.46    1      93.75    2.46\n",
       "3    52.6261   96.875  2.61    0       0.00    0.00\n",
       "4    67.3319  100.000  3.32    0       0.00    0.00"
      ]
     },
     "execution_count": 15,
     "metadata": {},
     "output_type": "execute_result"
    }
   ],
   "source": [
    "data = pd.read_csv(\"/Users/Asahi/Desktop/Pistat/attend.csv\", sep=\",\")\n",
    "data.head()"
   ]
  },
  {
   "cell_type": "code",
   "execution_count": 16,
   "id": "d80a2f31",
   "metadata": {},
   "outputs": [
    {
     "data": {
      "text/plain": [
       "50.297"
      ]
     },
     "execution_count": 16,
     "metadata": {},
     "output_type": "execute_result"
    }
   ],
   "source": [
    "round(data[\"testscore\"].mean(),3)"
   ]
  },
  {
   "cell_type": "code",
   "execution_count": 6,
   "id": "3c9c79a4",
   "metadata": {},
   "outputs": [
    {
     "data": {
      "image/png": "[encoded data removed]",
      "text/plain": [
       "<Figure size 432x288 with 1 Axes>"
      ]
     },
     "metadata": {
      "needs_background": "light"
     },
     "output_type": "display_data"
    }
   ],
   "source": [
    "import pandas as pd\n",
    "import matplotlib.pyplot as plt\n",
    "\n",
    "data = pd.read_csv(\"/Users/Asahi/Desktop/Pistat/attend.csv\", sep=\",\")\n",
    "\n",
    "def scatter(side,vertical):\n",
    "    plt.scatter(data[side],data[vertical], alpha=0.5)\n",
    "    plt.grid(True)\n",
    "    plt.xlabel(side)\n",
    "    plt.ylabel(vertical)\n",
    "\n",
    "scatter(\"attend\", \"testscore\")"
   ]
  },
  {
   "cell_type": "code",
   "execution_count": 7,
   "id": "37b01eb0",
   "metadata": {},
   "outputs": [
    {
     "data": {
      "image/png": "[encoded data removed]",
      "text/plain": [
       "<Figure size 432x288 with 1 Axes>"
      ]
     },
     "metadata": {
      "needs_background": "light"
     },
     "output_type": "display_data"
    }
   ],
   "source": [
    "import pandas as pd\n",
    "import matplotlib.pyplot as plt\n",
    "\n",
    "data = pd.read_csv(\"/Users/Asahi/Desktop/Pistat/attend.csv\", sep=\",\")\n",
    "\n",
    "def scatter(side,vertical):\n",
    "    plt.scatter(data[side],data[vertical], alpha=0.5)\n",
    "    plt.grid(True)\n",
    "    plt.xlabel(side)\n",
    "    plt.ylabel(vertical)\n",
    "\n",
    "scatter(\"gpa\", \"testscore\")"
   ]
  },
  {
   "cell_type": "code",
   "execution_count": null,
   "id": "3ad10852",
   "metadata": {},
   "outputs": [],
   "source": []
  },
  {
   "cell_type": "code",
   "execution_count": 14,
   "id": "dde2a2e8",
   "metadata": {},
   "outputs": [
    {
     "name": "stdout",
     "output_type": "stream",
     "text": [
      "                            OLS Regression Results                            \n",
      "==============================================================================\n",
      "Dep. Variable:              testscore   R-squared:                       0.186\n",
      "Model:                            OLS   Adj. R-squared:                  0.180\n",
      "Method:                 Least Squares   F-statistic:                     30.84\n",
      "Date:                Wed, 07 Jul 2021   Prob (F-statistic):           2.70e-28\n",
      "Time:                        16:55:36   Log-Likelihood:                -2452.9\n",
      "No. Observations:                 680   AIC:                             4918.\n",
      "Df Residuals:                     674   BIC:                             4945.\n",
      "Df Model:                           5                                         \n",
      "Covariance Type:            nonrobust                                         \n",
      "==============================================================================\n",
      "                 coef    std err          t      P>|t|      [0.025      0.975]\n",
      "------------------------------------------------------------------------------\n",
      "Intercept     37.6106      2.848     13.204      0.000      32.018      43.203\n",
      "attend         0.0044      0.033      0.135      0.893      -0.060       0.068\n",
      "gpa            4.0235      1.062      3.788      0.000       1.938       6.109\n",
      "act           -3.3259      4.022     -0.827      0.409     -11.224       4.572\n",
      "attendact      0.0515      0.047      1.099      0.272      -0.041       0.144\n",
      "gpaact         1.5274      1.537      0.994      0.321      -1.490       4.545\n",
      "==============================================================================\n",
      "Omnibus:                        0.324   Durbin-Watson:                   2.244\n",
      "Prob(Omnibus):                  0.850   Jarque-Bera (JB):                0.287\n",
      "Skew:                          -0.050   Prob(JB):                        0.866\n",
      "Kurtosis:                       3.009   Cond. No.                     1.23e+03\n",
      "==============================================================================\n",
      "\n",
      "Notes:\n",
      "[1] Standard Errors assume that the covariance matrix of the errors is correctly specified.\n",
      "[2] The condition number is large, 1.23e+03. This might indicate that there are\n",
      "strong multicollinearity or other numerical problems.\n"
     ]
    }
   ],
   "source": [
    "def smf_ols(_formula):\n",
    "    import statsmodels.formula.api as smf\n",
    "    formula = _formula\n",
    "    out = smf.ols(formula, data=data).fit()\n",
    "    print(out.summary())\n",
    "    \n",
    "smf_ols(\"testscore~attend+gpa+act+attendact+gpaact\")"
   ]
  },
  {
   "cell_type": "code",
   "execution_count": 11,
   "id": "d81ee361",
   "metadata": {},
   "outputs": [
    {
     "name": "stdout",
     "output_type": "stream",
     "text": [
      "                            OLS Regression Results                            \n",
      "==============================================================================\n",
      "Dep. Variable:              testscore   R-squared:                       0.139\n",
      "Model:                            OLS   Adj. R-squared:                  0.135\n",
      "Method:                 Least Squares   F-statistic:                     36.29\n",
      "Date:                Wed, 07 Jul 2021   Prob (F-statistic):           9.41e-22\n",
      "Time:                        16:53:40   Log-Likelihood:                -2472.2\n",
      "No. Observations:                 680   AIC:                             4952.\n",
      "Df Residuals:                     676   BIC:                             4970.\n",
      "Df Model:                           3                                         \n",
      "Covariance Type:            nonrobust                                         \n",
      "==============================================================================\n",
      "                 coef    std err          t      P>|t|      [0.025      0.975]\n",
      "------------------------------------------------------------------------------\n",
      "Intercept     42.9412      2.544     16.880      0.000      37.946      47.936\n",
      "attend         0.0587      0.030      1.954      0.051      -0.000       0.118\n",
      "act           -0.3412      3.473     -0.098      0.922      -7.160       6.478\n",
      "attendact      0.0891      0.042      2.134      0.033       0.007       0.171\n",
      "==============================================================================\n",
      "Omnibus:                        0.738   Durbin-Watson:                   2.253\n",
      "Prob(Omnibus):                  0.691   Jarque-Bera (JB):                0.818\n",
      "Skew:                          -0.072   Prob(JB):                        0.664\n",
      "Kurtosis:                       2.911   Cond. No.                     1.03e+03\n",
      "==============================================================================\n",
      "\n",
      "Notes:\n",
      "[1] Standard Errors assume that the covariance matrix of the errors is correctly specified.\n",
      "[2] The condition number is large, 1.03e+03. This might indicate that there are\n",
      "strong multicollinearity or other numerical problems.\n"
     ]
    }
   ],
   "source": [
    "smf_ols(\"testscore~attend+act+attendact\")"
   ]
  },
  {
   "cell_type": "code",
   "execution_count": 12,
   "id": "e648f8b4",
   "metadata": {},
   "outputs": [
    {
     "name": "stdout",
     "output_type": "stream",
     "text": [
      "                            OLS Regression Results                            \n",
      "==============================================================================\n",
      "Dep. Variable:              testscore   R-squared:                       0.183\n",
      "Model:                            OLS   Adj. R-squared:                  0.179\n",
      "Method:                 Least Squares   F-statistic:                     50.42\n",
      "Date:                Wed, 07 Jul 2021   Prob (F-statistic):           2.05e-29\n",
      "Time:                        16:53:40   Log-Likelihood:                -2454.3\n",
      "No. Observations:                 680   AIC:                             4917.\n",
      "Df Residuals:                     676   BIC:                             4935.\n",
      "Df Model:                           3                                         \n",
      "Covariance Type:            nonrobust                                         \n",
      "==============================================================================\n",
      "                 coef    std err          t      P>|t|      [0.025      0.975]\n",
      "------------------------------------------------------------------------------\n",
      "Intercept     37.8217      2.379     15.900      0.000      33.151      42.492\n",
      "gpa            4.0865      0.954      4.283      0.000       2.213       5.960\n",
      "act           -1.9405      3.579     -0.542      0.588      -8.967       5.086\n",
      "gpaact         2.4712      1.333      1.853      0.064      -0.147       5.089\n",
      "==============================================================================\n",
      "Omnibus:                        0.304   Durbin-Watson:                   2.237\n",
      "Prob(Omnibus):                  0.859   Jarque-Bera (JB):                0.314\n",
      "Skew:                          -0.051   Prob(JB):                        0.855\n",
      "Kurtosis:                       2.976   Cond. No.                         39.0\n",
      "==============================================================================\n",
      "\n",
      "Notes:\n",
      "[1] Standard Errors assume that the covariance matrix of the errors is correctly specified.\n"
     ]
    }
   ],
   "source": [
    "smf_ols(\"testscore~gpa+act+gpaact\")"
   ]
  },
  {
   "cell_type": "code",
   "execution_count": null,
   "id": "5d501dda",
   "metadata": {},
   "outputs": [],
   "source": []
  }
 ],
 "metadata": {
  "kernelspec": {
   "display_name": "Python 3",
   "language": "python",
   "name": "python3"
  },
  "language_info": {
   "codemirror_mode": {
    "name": "ipython",
    "version": 3
   },
   "file_extension": ".py",
   "mimetype": "text/x-python",
   "name": "python",
   "nbconvert_exporter": "python",
   "pygments_lexer": "ipython3",
   "version": "3.8.3"
  }
 },
 "nbformat": 4,
 "nbformat_minor": 5
}
