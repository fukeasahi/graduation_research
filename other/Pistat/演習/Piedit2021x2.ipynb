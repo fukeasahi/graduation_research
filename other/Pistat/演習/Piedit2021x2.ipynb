{
 "cells": [
  {
   "cell_type": "code",
   "execution_count": 1,
   "id": "40cf99fd",
   "metadata": {},
   "outputs": [],
   "source": [
    "import pandas as pd\n",
    "import numpy as np\n",
    "import matplotlib.pyplot as plt\n",
    "from scipy import stats"
   ]
  },
  {
   "cell_type": "code",
   "execution_count": 2,
   "id": "96cd8ca2",
   "metadata": {},
   "outputs": [],
   "source": [
    "def round2(num):\n",
    "    return(round(num, 2))"
   ]
  },
  {
   "cell_type": "code",
   "execution_count": 3,
   "id": "c917ccd6",
   "metadata": {},
   "outputs": [],
   "source": [
    "data_Covid19 = pd.read_csv(\"/Users/asahi/Desktop/Pistat/Covid19plus.csv\", sep=\",\")"
   ]
  },
  {
   "cell_type": "code",
   "execution_count": 5,
   "id": "9d3e7a1f",
   "metadata": {},
   "outputs": [
    {
     "name": "stdout",
     "output_type": "stream",
     "text": [
      "Germany mean 5753.08\n",
      "Germany 50% 1550.5\n",
      "Germany std 8793.46\n"
     ]
    }
   ],
   "source": [
    "def question11(country):\n",
    "    print(country,\"mean\",round2(data_Covid19[country].describe()[\"mean\"]))\n",
    "    print(country,\"50%\",round2(data_Covid19[country].describe()[\"50%\"]))\n",
    "    print(country,\"std\",round2(data_Covid19[country].describe()[\"std\"]))\n",
    "question11(\"Germany\")"
   ]
  },
  {
   "cell_type": "code",
   "execution_count": 6,
   "id": "68af0970",
   "metadata": {},
   "outputs": [
    {
     "name": "stdout",
     "output_type": "stream",
     "text": [
      "Germany 歪度 1.99\n",
      "Germany 尖度 3.43\n"
     ]
    }
   ],
   "source": [
    "def question12(country):\n",
    "    x = data_Covid19[country]\n",
    "    print(country,\"歪度\",round2(np.mean((x-np.mean(x))**3/(np.std(x,ddof=1)**3))))\n",
    "    print(country,\"尖度\",round2(np.mean((x-np.mean(x))**4/(np.std(x,ddof=1)**4))-3))\n",
    "question12(\"Germany\")"
   ]
  },
  {
   "cell_type": "code",
   "execution_count": 24,
   "id": "f2843526",
   "metadata": {},
   "outputs": [
    {
     "data": {
      "image/png": "[encoded data removed]",
      "text/plain": [
       "<Figure size 432x288 with 1 Axes>"
      ]
     },
     "metadata": {
      "needs_background": "light"
     },
     "output_type": "display_data"
    }
   ],
   "source": [
    "def histg(country):\n",
    "    plt.hist(data_Covid19[country])\n",
    "    \n",
    "    plt.show()\n",
    "histg(\"Germany\")"
   ]
  },
  {
   "cell_type": "code",
   "execution_count": 8,
   "id": "f0f0d83b",
   "metadata": {},
   "outputs": [
    {
     "name": "stdout",
     "output_type": "stream",
     "text": [
      "Germany Smean 5753.08\n",
      "Germany Ssig 502.69\n"
     ]
    }
   ],
   "source": [
    "def question3(country):\n",
    "    Smean = np.mean(data_Covid19[country]) \n",
    "    n = data_Covid19[country].count()\n",
    "    u2 = np.var(data_Covid19[country],ddof=1)\n",
    "    Ssig2 = u2/n\n",
    "    Ssig = Ssig2**(1/2)\n",
    "    Smean = round2(Smean)\n",
    "    Ssig = round2(Ssig)\n",
    "    print(country,\"Smean\",Smean)\n",
    "    print(country,\"Ssig\",Ssig)\n",
    "question3(\"Germany\")"
   ]
  },
  {
   "cell_type": "code",
   "execution_count": 9,
   "id": "ce2169d1",
   "metadata": {},
   "outputs": [
    {
     "name": "stdout",
     "output_type": "stream",
     "text": [
      "Germany Smean-tvalue*Ssig 4763.9\n",
      "Germany Smean+tvalue*Ssig 6742.25\n"
     ]
    }
   ],
   "source": [
    "def question4(country):\n",
    "    Smean = np.mean(data_Covid19[country]) \n",
    "    n = data_Covid19[country].count()\n",
    "    u2 = np.var(data_Covid19[country],ddof=1)\n",
    "    Ssig2 = u2/n\n",
    "    Ssig = Ssig2**(1/2)\n",
    "    tvalue = stats.t.ppf(0.975,df=n-1)\n",
    "    min1 = round2(Smean-tvalue*Ssig)\n",
    "    max1 = round2(Smean+tvalue*Ssig)\n",
    "    print(country,\"Smean-tvalue*Ssig\", min1)\n",
    "    print(country, \"Smean+tvalue*Ssig\", max1)\n",
    "question4(\"Germany\")"
   ]
  },
  {
   "cell_type": "code",
   "execution_count": 20,
   "id": "7f5064e3",
   "metadata": {},
   "outputs": [
    {
     "name": "stdout",
     "output_type": "stream",
     "text": [
      "統計量 1.7\n",
      "左片側点 -1.97\n",
      "右片側点 1.97\n"
     ]
    }
   ],
   "source": [
    "mu = 4900\n",
    "n = data_Covid19[\"Germany\"].count()\n",
    "Smean = np.mean(data_Covid19[\"Germany\"])\n",
    "u2 = np.var(data_Covid19[\"Germany\"],ddof=1)\n",
    "Ssig2 = u2/n\n",
    "Ssig = Ssig2**(1/2)\n",
    "t0 = (Smean-mu)/Ssig\n",
    "t0 = round2(t0)\n",
    "print(\"統計量\",t0)\n",
    "t_left = stats.t.ppf(0.025,df=n-1)\n",
    "t_left = round2(t_left)\n",
    "print(\"左片側点\",t_left)\n",
    "t_right = stats.t.ppf(0.975,df=n-1)\n",
    "t_right = round2(t_right)\n",
    "print(\"右片側点\",t_right)\n"
   ]
  },
  {
   "cell_type": "code",
   "execution_count": 23,
   "id": "5079e836",
   "metadata": {},
   "outputs": [
    {
     "name": "stdout",
     "output_type": "stream",
     "text": [
      "0.11\n"
     ]
    }
   ],
   "source": [
    "n = 5250\n",
    "p = 2.5/100\n",
    "mu = n*p\n",
    "Ssig2 = n*p*(1-p)\n",
    "Ssig = Ssig2**(1/2)\n",
    "print(round2(1-stats.norm.cdf(145,loc=mu,scale=Ssig)))"
   ]
  },
  {
   "cell_type": "code",
   "execution_count": null,
   "id": "e06af159",
   "metadata": {},
   "outputs": [],
   "source": []
  }
 ],
 "metadata": {
  "kernelspec": {
   "display_name": "Python 3",
   "language": "python",
   "name": "python3"
  },
  "language_info": {
   "codemirror_mode": {
    "name": "ipython",
    "version": 3
   },
   "file_extension": ".py",
   "mimetype": "text/x-python",
   "name": "python",
   "nbconvert_exporter": "python",
   "pygments_lexer": "ipython3",
   "version": "3.8.3"
  }
 },
 "nbformat": 4,
 "nbformat_minor": 5
}
