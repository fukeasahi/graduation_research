{
 "cells": [
  {
   "cell_type": "code",
   "execution_count": 1,
   "id": "90267515",
   "metadata": {},
   "outputs": [
    {
     "data": {
      "text/html": [
       "<div>\n",
       "<style scoped>\n",
       "    .dataframe tbody tr th:only-of-type {\n",
       "        vertical-align: middle;\n",
       "    }\n",
       "\n",
       "    .dataframe tbody tr th {\n",
       "        vertical-align: top;\n",
       "    }\n",
       "\n",
       "    .dataframe thead th {\n",
       "        text-align: right;\n",
       "    }\n",
       "</style>\n",
       "<table border=\"1\" class=\"dataframe\">\n",
       "  <thead>\n",
       "    <tr style=\"text-align: right;\">\n",
       "      <th></th>\n",
       "      <th>pref</th>\n",
       "      <th>byoushou</th>\n",
       "      <th>jyuushou</th>\n",
       "      <th>ryouyou</th>\n",
       "      <th>yousei</th>\n",
       "    </tr>\n",
       "  </thead>\n",
       "  <tbody>\n",
       "    <tr>\n",
       "      <th>pref</th>\n",
       "      <td>1.000000</td>\n",
       "      <td>-0.177020</td>\n",
       "      <td>0.032653</td>\n",
       "      <td>-0.141564</td>\n",
       "      <td>-0.186694</td>\n",
       "    </tr>\n",
       "    <tr>\n",
       "      <th>byoushou</th>\n",
       "      <td>-0.177020</td>\n",
       "      <td>1.000000</td>\n",
       "      <td>0.656436</td>\n",
       "      <td>0.846179</td>\n",
       "      <td>0.808319</td>\n",
       "    </tr>\n",
       "    <tr>\n",
       "      <th>jyuushou</th>\n",
       "      <td>0.032653</td>\n",
       "      <td>0.656436</td>\n",
       "      <td>1.000000</td>\n",
       "      <td>0.770064</td>\n",
       "      <td>0.707483</td>\n",
       "    </tr>\n",
       "    <tr>\n",
       "      <th>ryouyou</th>\n",
       "      <td>-0.141564</td>\n",
       "      <td>0.846179</td>\n",
       "      <td>0.770064</td>\n",
       "      <td>1.000000</td>\n",
       "      <td>0.952724</td>\n",
       "    </tr>\n",
       "    <tr>\n",
       "      <th>yousei</th>\n",
       "      <td>-0.186694</td>\n",
       "      <td>0.808319</td>\n",
       "      <td>0.707483</td>\n",
       "      <td>0.952724</td>\n",
       "      <td>1.000000</td>\n",
       "    </tr>\n",
       "  </tbody>\n",
       "</table>\n",
       "</div>"
      ],
      "text/plain": [
       "              pref  byoushou  jyuushou   ryouyou    yousei\n",
       "pref      1.000000 -0.177020  0.032653 -0.141564 -0.186694\n",
       "byoushou -0.177020  1.000000  0.656436  0.846179  0.808319\n",
       "jyuushou  0.032653  0.656436  1.000000  0.770064  0.707483\n",
       "ryouyou  -0.141564  0.846179  0.770064  1.000000  0.952724\n",
       "yousei   -0.186694  0.808319  0.707483  0.952724  1.000000"
      ]
     },
     "execution_count": 1,
     "metadata": {},
     "output_type": "execute_result"
    }
   ],
   "source": [
    "import pandas as pd\n",
    "data = pd.read_csv(\"/Users/asahi/desktop/pistat/Enshu3.csv\", sep=\",\")\n",
    "data.head()\n",
    "\n",
    "data.corr(method=\"pearson\")"
   ]
  },
  {
   "cell_type": "code",
   "execution_count": null,
   "id": "159a45fb",
   "metadata": {},
   "outputs": [],
   "source": []
  }
 ],
 "metadata": {
  "kernelspec": {
   "display_name": "Python 3",
   "language": "python",
   "name": "python3"
  },
  "language_info": {
   "codemirror_mode": {
    "name": "ipython",
    "version": 3
   },
   "file_extension": ".py",
   "mimetype": "text/x-python",
   "name": "python",
   "nbconvert_exporter": "python",
   "pygments_lexer": "ipython3",
   "version": "3.8.3"
  }
 },
 "nbformat": 4,
 "nbformat_minor": 5
}
