{
 "cells": [
  {
   "cell_type": "code",
   "execution_count": 15,
   "id": "905d9e8d",
   "metadata": {},
   "outputs": [
    {
     "data": {
      "text/html": [
       "<div>\n",
       "<style scoped>\n",
       "    .dataframe tbody tr th:only-of-type {\n",
       "        vertical-align: middle;\n",
       "    }\n",
       "\n",
       "    .dataframe tbody tr th {\n",
       "        vertical-align: top;\n",
       "    }\n",
       "\n",
       "    .dataframe thead th {\n",
       "        text-align: right;\n",
       "    }\n",
       "</style>\n",
       "<table border=\"1\" class=\"dataframe\">\n",
       "  <thead>\n",
       "    <tr style=\"text-align: right;\">\n",
       "      <th></th>\n",
       "      <th>income</th>\n",
       "      <th>food</th>\n",
       "      <th>health</th>\n",
       "      <th>saving</th>\n",
       "      <th>debt</th>\n",
       "    </tr>\n",
       "  </thead>\n",
       "  <tbody>\n",
       "    <tr>\n",
       "      <th>income</th>\n",
       "      <td>1.000000</td>\n",
       "      <td>0.780166</td>\n",
       "      <td>0.042405</td>\n",
       "      <td>-0.111119</td>\n",
       "      <td>0.569748</td>\n",
       "    </tr>\n",
       "    <tr>\n",
       "      <th>food</th>\n",
       "      <td>0.780166</td>\n",
       "      <td>1.000000</td>\n",
       "      <td>0.074114</td>\n",
       "      <td>0.059582</td>\n",
       "      <td>0.527759</td>\n",
       "    </tr>\n",
       "    <tr>\n",
       "      <th>health</th>\n",
       "      <td>0.042405</td>\n",
       "      <td>0.074114</td>\n",
       "      <td>1.000000</td>\n",
       "      <td>0.154698</td>\n",
       "      <td>-0.137474</td>\n",
       "    </tr>\n",
       "    <tr>\n",
       "      <th>saving</th>\n",
       "      <td>-0.111119</td>\n",
       "      <td>0.059582</td>\n",
       "      <td>0.154698</td>\n",
       "      <td>1.000000</td>\n",
       "      <td>-0.266152</td>\n",
       "    </tr>\n",
       "    <tr>\n",
       "      <th>debt</th>\n",
       "      <td>0.569748</td>\n",
       "      <td>0.527759</td>\n",
       "      <td>-0.137474</td>\n",
       "      <td>-0.266152</td>\n",
       "      <td>1.000000</td>\n",
       "    </tr>\n",
       "  </tbody>\n",
       "</table>\n",
       "</div>"
      ],
      "text/plain": [
       "          income      food    health    saving      debt\n",
       "income  1.000000  0.780166  0.042405 -0.111119  0.569748\n",
       "food    0.780166  1.000000  0.074114  0.059582  0.527759\n",
       "health  0.042405  0.074114  1.000000  0.154698 -0.137474\n",
       "saving -0.111119  0.059582  0.154698  1.000000 -0.266152\n",
       "debt    0.569748  0.527759 -0.137474 -0.266152  1.000000"
      ]
     },
     "execution_count": 15,
     "metadata": {},
     "output_type": "execute_result"
    },
    {
     "data": {
      "image/png": "[encoded data removed]",
      "text/plain": [
       "<Figure size 432x288 with 1 Axes>"
      ]
     },
     "metadata": {
      "needs_background": "light"
     },
     "output_type": "display_data"
    }
   ],
   "source": [
    "# x = [84, 58, 66, 92, 71]\n",
    "# y = [163, 167, 180, 187, 175]\n",
    "\n",
    "# import matplotlib.pyplot as plt\n",
    "# plt.scatter(x, y, alpha=0.5)\n",
    "# plt.grid(True)\n",
    "# plt.ylabel(\"height\")\n",
    "# plt.xlabel(\"weight\")\n",
    "\n",
    "# from pandas import Series, DataFrame\n",
    "# data=DataFrame({\"x\":x, \"y\":y})\n",
    "# data.corr(method=\"pearson\")\n",
    "# import pandas as pd\n",
    "# data = pd.read_csv(\"/Users/asahi/desktop/pistat/ex2.3.csv\", sep=\",\")\n",
    "# data.head()\n",
    "\n",
    "# data.corr(method=\"pearson\")"
   ]
  },
  {
   "cell_type": "code",
   "execution_count": 2,
   "id": "da548856",
   "metadata": {},
   "outputs": [],
   "source": [
    "x = [84, 58, 66, 92, 71]\n",
    "y = [163, 167, 180, 187, 175]"
   ]
  },
  {
   "cell_type": "code",
   "execution_count": 3,
   "id": "0927b7fb",
   "metadata": {},
   "outputs": [],
   "source": [
    "import matplotlib.pyplot as plt"
   ]
  },
  {
   "cell_type": "code",
   "execution_count": 4,
   "id": "7ce58c82",
   "metadata": {},
   "outputs": [
    {
     "data": {
      "text/plain": [
       "<matplotlib.collections.PathCollection at 0x7fd623417580>"
      ]
     },
     "execution_count": 4,
     "metadata": {},
     "output_type": "execute_result"
    },
    {
     "data": {
      "image/png": "[encoded data removed]",
      "text/plain": [
       "<Figure size 432x288 with 1 Axes>"
      ]
     },
     "metadata": {
      "needs_background": "light"
     },
     "output_type": "display_data"
    }
   ],
   "source": [
    "plt.scatter(x, y, alpha=0.5)"
   ]
  },
  {
   "cell_type": "code",
   "execution_count": 5,
   "id": "f6bf4bc9",
   "metadata": {},
   "outputs": [
    {
     "data": {
      "image/png": "[encoded data removed]",
      "text/plain": [
       "<Figure size 432x288 with 1 Axes>"
      ]
     },
     "metadata": {
      "needs_background": "light"
     },
     "output_type": "display_data"
    }
   ],
   "source": [
    "plt.grid(True)"
   ]
  },
  {
   "cell_type": "code",
   "execution_count": 6,
   "id": "b225a97f",
   "metadata": {},
   "outputs": [
    {
     "data": {
      "text/plain": [
       "Text(0, 0.5, 'height')"
      ]
     },
     "execution_count": 6,
     "metadata": {},
     "output_type": "execute_result"
    },
    {
     "data": {
      "image/png": "[encoded data removed]",
      "text/plain": [
       "<Figure size 432x288 with 1 Axes>"
      ]
     },
     "metadata": {
      "needs_background": "light"
     },
     "output_type": "display_data"
    }
   ],
   "source": [
    "plt.ylabel(\"height\")"
   ]
  },
  {
   "cell_type": "code",
   "execution_count": 7,
   "id": "2bc446c2",
   "metadata": {},
   "outputs": [
    {
     "data": {
      "text/plain": [
       "Text(0.5, 0, 'weight')"
      ]
     },
     "execution_count": 7,
     "metadata": {},
     "output_type": "execute_result"
    },
    {
     "data": {
      "image/png": "[encoded data removed]",
      "text/plain": [
       "<Figure size 432x288 with 1 Axes>"
      ]
     },
     "metadata": {
      "needs_background": "light"
     },
     "output_type": "display_data"
    }
   ],
   "source": [
    "plt.xlabel(\"weight\")"
   ]
  },
  {
   "cell_type": "code",
   "execution_count": 8,
   "id": "34af7331",
   "metadata": {},
   "outputs": [],
   "source": [
    "from pandas import Series, DataFrame"
   ]
  },
  {
   "cell_type": "code",
   "execution_count": 9,
   "id": "7cb1aa53",
   "metadata": {},
   "outputs": [],
   "source": [
    "data=DataFrame({\"x\":x, \"y\":y})"
   ]
  },
  {
   "cell_type": "code",
   "execution_count": 10,
   "id": "bd7839ea",
   "metadata": {},
   "outputs": [
    {
     "data": {
      "text/html": [
       "<div>\n",
       "<style scoped>\n",
       "    .dataframe tbody tr th:only-of-type {\n",
       "        vertical-align: middle;\n",
       "    }\n",
       "\n",
       "    .dataframe tbody tr th {\n",
       "        vertical-align: top;\n",
       "    }\n",
       "\n",
       "    .dataframe thead th {\n",
       "        text-align: right;\n",
       "    }\n",
       "</style>\n",
       "<table border=\"1\" class=\"dataframe\">\n",
       "  <thead>\n",
       "    <tr style=\"text-align: right;\">\n",
       "      <th></th>\n",
       "      <th>x</th>\n",
       "      <th>y</th>\n",
       "    </tr>\n",
       "  </thead>\n",
       "  <tbody>\n",
       "    <tr>\n",
       "      <th>x</th>\n",
       "      <td>1.000000</td>\n",
       "      <td>0.347345</td>\n",
       "    </tr>\n",
       "    <tr>\n",
       "      <th>y</th>\n",
       "      <td>0.347345</td>\n",
       "      <td>1.000000</td>\n",
       "    </tr>\n",
       "  </tbody>\n",
       "</table>\n",
       "</div>"
      ],
      "text/plain": [
       "          x         y\n",
       "x  1.000000  0.347345\n",
       "y  0.347345  1.000000"
      ]
     },
     "execution_count": 10,
     "metadata": {},
     "output_type": "execute_result"
    }
   ],
   "source": [
    "data.corr(method=\"pearson\")"
   ]
  },
  {
   "cell_type": "code",
   "execution_count": 11,
   "id": "a5090104",
   "metadata": {},
   "outputs": [],
   "source": [
    "import pandas as pd"
   ]
  },
  {
   "cell_type": "code",
   "execution_count": 12,
   "id": "af5c466f",
   "metadata": {},
   "outputs": [],
   "source": [
    "data = pd.read_csv(\"/Users/asahi/desktop/pistat/ex2.3.csv\", sep=\",\")"
   ]
  },
  {
   "cell_type": "code",
   "execution_count": 13,
   "id": "95b12235",
   "metadata": {},
   "outputs": [
    {
     "data": {
      "text/html": [
       "<div>\n",
       "<style scoped>\n",
       "    .dataframe tbody tr th:only-of-type {\n",
       "        vertical-align: middle;\n",
       "    }\n",
       "\n",
       "    .dataframe tbody tr th {\n",
       "        vertical-align: top;\n",
       "    }\n",
       "\n",
       "    .dataframe thead th {\n",
       "        text-align: right;\n",
       "    }\n",
       "</style>\n",
       "<table border=\"1\" class=\"dataframe\">\n",
       "  <thead>\n",
       "    <tr style=\"text-align: right;\">\n",
       "      <th></th>\n",
       "      <th>income</th>\n",
       "      <th>food</th>\n",
       "      <th>health</th>\n",
       "      <th>saving</th>\n",
       "      <th>debt</th>\n",
       "    </tr>\n",
       "  </thead>\n",
       "  <tbody>\n",
       "    <tr>\n",
       "      <th>0</th>\n",
       "      <td>41.3</td>\n",
       "      <td>21.0</td>\n",
       "      <td>1.01</td>\n",
       "      <td>0.20</td>\n",
       "      <td>0.03</td>\n",
       "    </tr>\n",
       "    <tr>\n",
       "      <th>1</th>\n",
       "      <td>37.9</td>\n",
       "      <td>15.4</td>\n",
       "      <td>6.28</td>\n",
       "      <td>0.24</td>\n",
       "      <td>0.02</td>\n",
       "    </tr>\n",
       "    <tr>\n",
       "      <th>2</th>\n",
       "      <td>19.4</td>\n",
       "      <td>22.8</td>\n",
       "      <td>6.03</td>\n",
       "      <td>0.73</td>\n",
       "      <td>0.05</td>\n",
       "    </tr>\n",
       "    <tr>\n",
       "      <th>3</th>\n",
       "      <td>77.6</td>\n",
       "      <td>23.1</td>\n",
       "      <td>3.97</td>\n",
       "      <td>0.16</td>\n",
       "      <td>0.12</td>\n",
       "    </tr>\n",
       "    <tr>\n",
       "      <th>4</th>\n",
       "      <td>63.1</td>\n",
       "      <td>21.0</td>\n",
       "      <td>3.48</td>\n",
       "      <td>0.76</td>\n",
       "      <td>0.05</td>\n",
       "    </tr>\n",
       "  </tbody>\n",
       "</table>\n",
       "</div>"
      ],
      "text/plain": [
       "   income  food  health  saving  debt\n",
       "0    41.3  21.0    1.01    0.20  0.03\n",
       "1    37.9  15.4    6.28    0.24  0.02\n",
       "2    19.4  22.8    6.03    0.73  0.05\n",
       "3    77.6  23.1    3.97    0.16  0.12\n",
       "4    63.1  21.0    3.48    0.76  0.05"
      ]
     },
     "execution_count": 13,
     "metadata": {},
     "output_type": "execute_result"
    }
   ],
   "source": [
    "data.head()"
   ]
  },
  {
   "cell_type": "code",
   "execution_count": 14,
   "id": "04b65503",
   "metadata": {},
   "outputs": [
    {
     "data": {
      "text/html": [
       "<div>\n",
       "<style scoped>\n",
       "    .dataframe tbody tr th:only-of-type {\n",
       "        vertical-align: middle;\n",
       "    }\n",
       "\n",
       "    .dataframe tbody tr th {\n",
       "        vertical-align: top;\n",
       "    }\n",
       "\n",
       "    .dataframe thead th {\n",
       "        text-align: right;\n",
       "    }\n",
       "</style>\n",
       "<table border=\"1\" class=\"dataframe\">\n",
       "  <thead>\n",
       "    <tr style=\"text-align: right;\">\n",
       "      <th></th>\n",
       "      <th>income</th>\n",
       "      <th>food</th>\n",
       "      <th>health</th>\n",
       "      <th>saving</th>\n",
       "      <th>debt</th>\n",
       "    </tr>\n",
       "  </thead>\n",
       "  <tbody>\n",
       "    <tr>\n",
       "      <th>income</th>\n",
       "      <td>1.000000</td>\n",
       "      <td>0.780166</td>\n",
       "      <td>0.042405</td>\n",
       "      <td>-0.111119</td>\n",
       "      <td>0.569748</td>\n",
       "    </tr>\n",
       "    <tr>\n",
       "      <th>food</th>\n",
       "      <td>0.780166</td>\n",
       "      <td>1.000000</td>\n",
       "      <td>0.074114</td>\n",
       "      <td>0.059582</td>\n",
       "      <td>0.527759</td>\n",
       "    </tr>\n",
       "    <tr>\n",
       "      <th>health</th>\n",
       "      <td>0.042405</td>\n",
       "      <td>0.074114</td>\n",
       "      <td>1.000000</td>\n",
       "      <td>0.154698</td>\n",
       "      <td>-0.137474</td>\n",
       "    </tr>\n",
       "    <tr>\n",
       "      <th>saving</th>\n",
       "      <td>-0.111119</td>\n",
       "      <td>0.059582</td>\n",
       "      <td>0.154698</td>\n",
       "      <td>1.000000</td>\n",
       "      <td>-0.266152</td>\n",
       "    </tr>\n",
       "    <tr>\n",
       "      <th>debt</th>\n",
       "      <td>0.569748</td>\n",
       "      <td>0.527759</td>\n",
       "      <td>-0.137474</td>\n",
       "      <td>-0.266152</td>\n",
       "      <td>1.000000</td>\n",
       "    </tr>\n",
       "  </tbody>\n",
       "</table>\n",
       "</div>"
      ],
      "text/plain": [
       "          income      food    health    saving      debt\n",
       "income  1.000000  0.780166  0.042405 -0.111119  0.569748\n",
       "food    0.780166  1.000000  0.074114  0.059582  0.527759\n",
       "health  0.042405  0.074114  1.000000  0.154698 -0.137474\n",
       "saving -0.111119  0.059582  0.154698  1.000000 -0.266152\n",
       "debt    0.569748  0.527759 -0.137474 -0.266152  1.000000"
      ]
     },
     "execution_count": 14,
     "metadata": {},
     "output_type": "execute_result"
    }
   ],
   "source": [
    "data.corr(method=\"pearson\")"
   ]
  },
  {
   "cell_type": "code",
   "execution_count": null,
   "id": "3c7ea87e",
   "metadata": {},
   "outputs": [],
   "source": []
  }
 ],
 "metadata": {
  "kernelspec": {
   "display_name": "Python 3",
   "language": "python",
   "name": "python3"
  },
  "language_info": {
   "codemirror_mode": {
    "name": "ipython",
    "version": 3
   },
   "file_extension": ".py",
   "mimetype": "text/x-python",
   "name": "python",
   "nbconvert_exporter": "python",
   "pygments_lexer": "ipython3",
   "version": "3.8.3"
  }
 },
 "nbformat": 4,
 "nbformat_minor": 5
}
