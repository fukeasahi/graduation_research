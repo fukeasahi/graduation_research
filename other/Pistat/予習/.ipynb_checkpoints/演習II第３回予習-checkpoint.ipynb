{
 "cells": [
  {
   "cell_type": "code",
   "execution_count": 2,
   "id": "2764d23a",
   "metadata": {},
   "outputs": [
    {
     "data": {
      "text/html": [
       "<div>\n",
       "<style scoped>\n",
       "    .dataframe tbody tr th:only-of-type {\n",
       "        vertical-align: middle;\n",
       "    }\n",
       "\n",
       "    .dataframe tbody tr th {\n",
       "        vertical-align: top;\n",
       "    }\n",
       "\n",
       "    .dataframe thead th {\n",
       "        text-align: right;\n",
       "    }\n",
       "</style>\n",
       "<table border=\"1\" class=\"dataframe\">\n",
       "  <thead>\n",
       "    <tr style=\"text-align: right;\">\n",
       "      <th></th>\n",
       "      <th>income</th>\n",
       "      <th>food</th>\n",
       "      <th>health</th>\n",
       "      <th>saving</th>\n",
       "      <th>debt</th>\n",
       "    </tr>\n",
       "  </thead>\n",
       "  <tbody>\n",
       "    <tr>\n",
       "      <th>income</th>\n",
       "      <td>1.000000</td>\n",
       "      <td>0.780166</td>\n",
       "      <td>0.042405</td>\n",
       "      <td>-0.111119</td>\n",
       "      <td>0.569748</td>\n",
       "    </tr>\n",
       "    <tr>\n",
       "      <th>food</th>\n",
       "      <td>0.780166</td>\n",
       "      <td>1.000000</td>\n",
       "      <td>0.074114</td>\n",
       "      <td>0.059582</td>\n",
       "      <td>0.527759</td>\n",
       "    </tr>\n",
       "    <tr>\n",
       "      <th>health</th>\n",
       "      <td>0.042405</td>\n",
       "      <td>0.074114</td>\n",
       "      <td>1.000000</td>\n",
       "      <td>0.154698</td>\n",
       "      <td>-0.137474</td>\n",
       "    </tr>\n",
       "    <tr>\n",
       "      <th>saving</th>\n",
       "      <td>-0.111119</td>\n",
       "      <td>0.059582</td>\n",
       "      <td>0.154698</td>\n",
       "      <td>1.000000</td>\n",
       "      <td>-0.266152</td>\n",
       "    </tr>\n",
       "    <tr>\n",
       "      <th>debt</th>\n",
       "      <td>0.569748</td>\n",
       "      <td>0.527759</td>\n",
       "      <td>-0.137474</td>\n",
       "      <td>-0.266152</td>\n",
       "      <td>1.000000</td>\n",
       "    </tr>\n",
       "  </tbody>\n",
       "</table>\n",
       "</div>"
      ],
      "text/plain": [
       "          income      food    health    saving      debt\n",
       "income  1.000000  0.780166  0.042405 -0.111119  0.569748\n",
       "food    0.780166  1.000000  0.074114  0.059582  0.527759\n",
       "health  0.042405  0.074114  1.000000  0.154698 -0.137474\n",
       "saving -0.111119  0.059582  0.154698  1.000000 -0.266152\n",
       "debt    0.569748  0.527759 -0.137474 -0.266152  1.000000"
      ]
     },
     "execution_count": 2,
     "metadata": {},
     "output_type": "execute_result"
    },
    {
     "data": {
      "image/png": "[encoded data removed]",
      "text/plain": [
       "<Figure size 432x288 with 1 Axes>"
      ]
     },
     "metadata": {
      "needs_background": "light"
     },
     "output_type": "display_data"
    }
   ],
   "source": [
    "x = [84, 58, 66, 92, 71]\n",
    "y = [163, 167, 180, 187, 175]\n",
    "\n",
    "import matplotlib.pyplot as plt\n",
    "plt.scatter(x, y, alpha=0.5)\n",
    "plt.grid(True)\n",
    "plt.ylabel(\"height\")\n",
    "plt.xlabel(\"weight\")\n",
    "\n",
    "from pandas import Series, DataFrame\n",
    "data=DataFrame({\"x\":x, \"y\":y})\n",
    "data.corr(method=\"pearson\")\n",
    "import pandas as pd\n",
    "data = pd.read_csv(\"/Users/asahi/desktop/pistat/ex2.3.csv\", sep=\",\")\n",
    "data.head()\n",
    "\n",
    "data.corr(method=\"pearson\")"
   ]
  },
  {
   "cell_type": "code",
   "execution_count": null,
   "id": "0c439a9c",
   "metadata": {},
   "outputs": [],
   "source": []
  }
 ],
 "metadata": {
  "kernelspec": {
   "display_name": "Python 3",
   "language": "python",
   "name": "python3"
  },
  "language_info": {
   "codemirror_mode": {
    "name": "ipython",
    "version": 3
   },
   "file_extension": ".py",
   "mimetype": "text/x-python",
   "name": "python",
   "nbconvert_exporter": "python",
   "pygments_lexer": "ipython3",
   "version": "3.8.3"
  }
 },
 "nbformat": 4,
 "nbformat_minor": 5
}
