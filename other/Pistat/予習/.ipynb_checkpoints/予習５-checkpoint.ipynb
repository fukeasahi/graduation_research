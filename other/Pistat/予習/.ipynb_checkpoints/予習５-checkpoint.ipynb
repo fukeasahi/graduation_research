{
 "cells": [
  {
   "cell_type": "code",
   "execution_count": 24,
   "id": "5f6294a9",
   "metadata": {},
   "outputs": [],
   "source": [
    "from pandas import Series, DataFrame"
   ]
  },
  {
   "cell_type": "code",
   "execution_count": 25,
   "id": "f68560ef",
   "metadata": {},
   "outputs": [],
   "source": [
    "data = DataFrame({\n",
    "    'x':[6,14,18,8,12],\n",
    "    'y':[3, 3, 6,2, 4]\n",
    "})"
   ]
  },
  {
   "cell_type": "code",
   "execution_count": 26,
   "id": "a1192489",
   "metadata": {},
   "outputs": [],
   "source": [
    "import statsmodels.formula.api as smf"
   ]
  },
  {
   "cell_type": "code",
   "execution_count": 27,
   "id": "f32c2b59",
   "metadata": {},
   "outputs": [],
   "source": [
    "formula = 'y~x'"
   ]
  },
  {
   "cell_type": "code",
   "execution_count": 28,
   "id": "2b1fe717",
   "metadata": {},
   "outputs": [],
   "source": [
    "out1 = smf.ols(formula, data=data).fit()"
   ]
  },
  {
   "cell_type": "code",
   "execution_count": 29,
   "id": "7661cc29",
   "metadata": {},
   "outputs": [
    {
     "name": "stdout",
     "output_type": "stream",
     "text": [
      "                            OLS Regression Results                            \n",
      "==============================================================================\n",
      "Dep. Variable:                      y   R-squared:                       0.641\n",
      "Model:                            OLS   Adj. R-squared:                  0.522\n",
      "Method:                 Least Squares   F-statistic:                     5.368\n",
      "Date:                Wed, 28 Apr 2021   Prob (F-statistic):              0.103\n",
      "Time:                        12:43:36   Log-Likelihood:                -6.0546\n",
      "No. Observations:                   5   AIC:                             16.11\n",
      "Df Residuals:                       3   BIC:                             15.33\n",
      "Df Model:                           1                                         \n",
      "Covariance Type:            nonrobust                                         \n",
      "==============================================================================\n",
      "                 coef    std err          t      P>|t|      [0.025      0.975]\n",
      "------------------------------------------------------------------------------\n",
      "Intercept      0.6491      1.357      0.478      0.665      -3.670       4.968\n",
      "x              0.2544      0.110      2.317      0.103      -0.095       0.604\n",
      "==============================================================================\n",
      "Omnibus:                          nan   Durbin-Watson:                   3.383\n",
      "Prob(Omnibus):                    nan   Jarque-Bera (JB):                0.617\n",
      "Skew:                          -0.391   Prob(JB):                        0.735\n",
      "Kurtosis:                       1.467   Cond. No.                         36.0\n",
      "==============================================================================\n",
      "\n",
      "Notes:\n",
      "[1] Standard Errors assume that the covariance matrix of the errors is correctly specified.\n"
     ]
    },
    {
     "name": "stderr",
     "output_type": "stream",
     "text": [
      "/Users/asahi/opt/anaconda3/lib/python3.8/site-packages/statsmodels/stats/stattools.py:74: ValueWarning: omni_normtest is not valid with less than 8 observations; 5 samples were given.\n",
      "  warn(\"omni_normtest is not valid with less than 8 observations; %i \"\n"
     ]
    }
   ],
   "source": [
    "print(out1.summary())"
   ]
  },
  {
   "cell_type": "code",
   "execution_count": null,
   "id": "7dee29d5",
   "metadata": {},
   "outputs": [],
   "source": []
  },
  {
   "cell_type": "code",
   "execution_count": null,
   "id": "38ae0bab",
   "metadata": {},
   "outputs": [],
   "source": []
  },
  {
   "cell_type": "code",
   "execution_count": 30,
   "id": "bee5d0ea",
   "metadata": {},
   "outputs": [],
   "source": [
    "import matplotlib.pyplot as plt"
   ]
  },
  {
   "cell_type": "code",
   "execution_count": 31,
   "id": "5f1a52d1",
   "metadata": {},
   "outputs": [
    {
     "data": {
      "text/plain": [
       "[<matplotlib.lines.Line2D at 0x7ff839cb11f0>]"
      ]
     },
     "execution_count": 31,
     "metadata": {},
     "output_type": "execute_result"
    },
    {
     "data": {
      "image/png": "[encoded data removed]",
      "text/plain": [
       "<Figure size 432x288 with 1 Axes>"
      ]
     },
     "metadata": {
      "needs_background": "light"
     },
     "output_type": "display_data"
    }
   ],
   "source": [
    "plt.plot(data['x'], data['y'], 'o')"
   ]
  },
  {
   "cell_type": "code",
   "execution_count": 32,
   "id": "ff884c22",
   "metadata": {},
   "outputs": [
    {
     "data": {
      "text/plain": [
       "[<matplotlib.lines.Line2D at 0x7ff839dc86d0>]"
      ]
     },
     "execution_count": 32,
     "metadata": {},
     "output_type": "execute_result"
    },
    {
     "data": {
      "image/png": "[encoded data removed]",
      "text/plain": [
       "<Figure size 432x288 with 1 Axes>"
      ]
     },
     "metadata": {
      "needs_background": "light"
     },
     "output_type": "display_data"
    }
   ],
   "source": [
    "plt.plot(data['x'], out1.fittedvalues, linestyle='solid')"
   ]
  },
  {
   "cell_type": "code",
   "execution_count": null,
   "id": "8397ae5b",
   "metadata": {},
   "outputs": [],
   "source": []
  },
  {
   "cell_type": "code",
   "execution_count": 33,
   "id": "dc46c6fa",
   "metadata": {},
   "outputs": [],
   "source": [
    "import pandas as pd"
   ]
  },
  {
   "cell_type": "code",
   "execution_count": 34,
   "id": "210557c9",
   "metadata": {},
   "outputs": [
    {
     "data": {
      "text/html": [
       "<div>\n",
       "<style scoped>\n",
       "    .dataframe tbody tr th:only-of-type {\n",
       "        vertical-align: middle;\n",
       "    }\n",
       "\n",
       "    .dataframe tbody tr th {\n",
       "        vertical-align: top;\n",
       "    }\n",
       "\n",
       "    .dataframe thead th {\n",
       "        text-align: right;\n",
       "    }\n",
       "</style>\n",
       "<table border=\"1\" class=\"dataframe\">\n",
       "  <thead>\n",
       "    <tr style=\"text-align: right;\">\n",
       "      <th></th>\n",
       "      <th>no</th>\n",
       "      <th>weight</th>\n",
       "      <th>height</th>\n",
       "      <th>waist</th>\n",
       "    </tr>\n",
       "  </thead>\n",
       "  <tbody>\n",
       "    <tr>\n",
       "      <th>0</th>\n",
       "      <td>1</td>\n",
       "      <td>84</td>\n",
       "      <td>163</td>\n",
       "      <td>89</td>\n",
       "    </tr>\n",
       "    <tr>\n",
       "      <th>1</th>\n",
       "      <td>2</td>\n",
       "      <td>58</td>\n",
       "      <td>167</td>\n",
       "      <td>79</td>\n",
       "    </tr>\n",
       "    <tr>\n",
       "      <th>2</th>\n",
       "      <td>3</td>\n",
       "      <td>66</td>\n",
       "      <td>180</td>\n",
       "      <td>78</td>\n",
       "    </tr>\n",
       "    <tr>\n",
       "      <th>3</th>\n",
       "      <td>4</td>\n",
       "      <td>92</td>\n",
       "      <td>187</td>\n",
       "      <td>83</td>\n",
       "    </tr>\n",
       "    <tr>\n",
       "      <th>4</th>\n",
       "      <td>5</td>\n",
       "      <td>71</td>\n",
       "      <td>175</td>\n",
       "      <td>79</td>\n",
       "    </tr>\n",
       "    <tr>\n",
       "      <th>5</th>\n",
       "      <td>6</td>\n",
       "      <td>60</td>\n",
       "      <td>169</td>\n",
       "      <td>76</td>\n",
       "    </tr>\n",
       "    <tr>\n",
       "      <th>6</th>\n",
       "      <td>7</td>\n",
       "      <td>55</td>\n",
       "      <td>159</td>\n",
       "      <td>76</td>\n",
       "    </tr>\n",
       "    <tr>\n",
       "      <th>7</th>\n",
       "      <td>8</td>\n",
       "      <td>64</td>\n",
       "      <td>166</td>\n",
       "      <td>78</td>\n",
       "    </tr>\n",
       "    <tr>\n",
       "      <th>8</th>\n",
       "      <td>9</td>\n",
       "      <td>89</td>\n",
       "      <td>185</td>\n",
       "      <td>82</td>\n",
       "    </tr>\n",
       "    <tr>\n",
       "      <th>9</th>\n",
       "      <td>10</td>\n",
       "      <td>86</td>\n",
       "      <td>186</td>\n",
       "      <td>80</td>\n",
       "    </tr>\n",
       "    <tr>\n",
       "      <th>10</th>\n",
       "      <td>11</td>\n",
       "      <td>69</td>\n",
       "      <td>167</td>\n",
       "      <td>83</td>\n",
       "    </tr>\n",
       "    <tr>\n",
       "      <th>11</th>\n",
       "      <td>12</td>\n",
       "      <td>57</td>\n",
       "      <td>169</td>\n",
       "      <td>84</td>\n",
       "    </tr>\n",
       "    <tr>\n",
       "      <th>12</th>\n",
       "      <td>13</td>\n",
       "      <td>63</td>\n",
       "      <td>159</td>\n",
       "      <td>77</td>\n",
       "    </tr>\n",
       "    <tr>\n",
       "      <th>13</th>\n",
       "      <td>14</td>\n",
       "      <td>69</td>\n",
       "      <td>166</td>\n",
       "      <td>74</td>\n",
       "    </tr>\n",
       "    <tr>\n",
       "      <th>14</th>\n",
       "      <td>15</td>\n",
       "      <td>53</td>\n",
       "      <td>169</td>\n",
       "      <td>78</td>\n",
       "    </tr>\n",
       "    <tr>\n",
       "      <th>15</th>\n",
       "      <td>16</td>\n",
       "      <td>95</td>\n",
       "      <td>170</td>\n",
       "      <td>75</td>\n",
       "    </tr>\n",
       "    <tr>\n",
       "      <th>16</th>\n",
       "      <td>17</td>\n",
       "      <td>101</td>\n",
       "      <td>178</td>\n",
       "      <td>81</td>\n",
       "    </tr>\n",
       "    <tr>\n",
       "      <th>17</th>\n",
       "      <td>18</td>\n",
       "      <td>52</td>\n",
       "      <td>177</td>\n",
       "      <td>70</td>\n",
       "    </tr>\n",
       "    <tr>\n",
       "      <th>18</th>\n",
       "      <td>19</td>\n",
       "      <td>74</td>\n",
       "      <td>165</td>\n",
       "      <td>83</td>\n",
       "    </tr>\n",
       "    <tr>\n",
       "      <th>19</th>\n",
       "      <td>20</td>\n",
       "      <td>69</td>\n",
       "      <td>168</td>\n",
       "      <td>81</td>\n",
       "    </tr>\n",
       "  </tbody>\n",
       "</table>\n",
       "</div>"
      ],
      "text/plain": [
       "    no  weight  height  waist\n",
       "0    1      84     163     89\n",
       "1    2      58     167     79\n",
       "2    3      66     180     78\n",
       "3    4      92     187     83\n",
       "4    5      71     175     79\n",
       "5    6      60     169     76\n",
       "6    7      55     159     76\n",
       "7    8      64     166     78\n",
       "8    9      89     185     82\n",
       "9   10      86     186     80\n",
       "10  11      69     167     83\n",
       "11  12      57     169     84\n",
       "12  13      63     159     77\n",
       "13  14      69     166     74\n",
       "14  15      53     169     78\n",
       "15  16      95     170     75\n",
       "16  17     101     178     81\n",
       "17  18      52     177     70\n",
       "18  19      74     165     83\n",
       "19  20      69     168     81"
      ]
     },
     "execution_count": 34,
     "metadata": {},
     "output_type": "execute_result"
    }
   ],
   "source": [
    "data = pd.read_csv('/Users/asahi/Desktop/Pistat/ex2.7.csv')\n",
    "data"
   ]
  },
  {
   "cell_type": "code",
   "execution_count": 35,
   "id": "77f3812c",
   "metadata": {},
   "outputs": [],
   "source": [
    "formula = 'weight~height+waist'"
   ]
  },
  {
   "cell_type": "code",
   "execution_count": 36,
   "id": "8776c72a",
   "metadata": {},
   "outputs": [],
   "source": [
    "result = smf.ols(formula, data=data).fit()"
   ]
  },
  {
   "cell_type": "code",
   "execution_count": 37,
   "id": "855e3376",
   "metadata": {},
   "outputs": [
    {
     "name": "stdout",
     "output_type": "stream",
     "text": [
      "                            OLS Regression Results                            \n",
      "==============================================================================\n",
      "Dep. Variable:                 weight   R-squared:                       0.397\n",
      "Model:                            OLS   Adj. R-squared:                  0.326\n",
      "Method:                 Least Squares   F-statistic:                     5.594\n",
      "Date:                Wed, 28 Apr 2021   Prob (F-statistic):             0.0136\n",
      "Time:                        12:43:40   Log-Likelihood:                -76.837\n",
      "No. Observations:                  20   AIC:                             159.7\n",
      "Df Residuals:                      17   BIC:                             162.7\n",
      "Df Model:                           2                                         \n",
      "Covariance Type:            nonrobust                                         \n",
      "==============================================================================\n",
      "                 coef    std err          t      P>|t|      [0.025      0.975]\n",
      "------------------------------------------------------------------------------\n",
      "Intercept   -181.3896     75.819     -2.392      0.029    -341.354     -21.426\n",
      "height         0.8536      0.333      2.560      0.020       0.150       1.557\n",
      "waist          1.3437      0.668      2.011      0.060      -0.066       2.753\n",
      "==============================================================================\n",
      "Omnibus:                        6.063   Durbin-Watson:                   2.115\n",
      "Prob(Omnibus):                  0.048   Jarque-Bera (JB):                3.617\n",
      "Skew:                           0.905   Prob(JB):                        0.164\n",
      "Kurtosis:                       4.033   Cond. No.                     5.24e+03\n",
      "==============================================================================\n",
      "\n",
      "Notes:\n",
      "[1] Standard Errors assume that the covariance matrix of the errors is correctly specified.\n",
      "[2] The condition number is large, 5.24e+03. This might indicate that there are\n",
      "strong multicollinearity or other numerical problems.\n"
     ]
    }
   ],
   "source": [
    "print(result.summary())"
   ]
  },
  {
   "cell_type": "code",
   "execution_count": null,
   "id": "eeb845fc",
   "metadata": {},
   "outputs": [],
   "source": []
  }
 ],
 "metadata": {
  "kernelspec": {
   "display_name": "Python 3",
   "language": "python",
   "name": "python3"
  },
  "language_info": {
   "codemirror_mode": {
    "name": "ipython",
    "version": 3
   },
   "file_extension": ".py",
   "mimetype": "text/x-python",
   "name": "python",
   "nbconvert_exporter": "python",
   "pygments_lexer": "ipython3",
   "version": "3.8.3"
  }
 },
 "nbformat": 4,
 "nbformat_minor": 5
}
