{
 "cells": [
  {
   "cell_type": "code",
   "execution_count": 14,
   "id": "cdde4254",
   "metadata": {},
   "outputs": [
    {
     "name": "stderr",
     "output_type": "stream",
     "text": [
      "/Users/asahi/opt/anaconda3/lib/python3.8/site-packages/statsmodels/stats/stattools.py:74: ValueWarning: omni_normtest is not valid with less than 8 observations; 5 samples were given.\n",
      "  warn(\"omni_normtest is not valid with less than 8 observations; %i \"\n"
     ]
    },
    {
     "name": "stdout",
     "output_type": "stream",
     "text": [
      "                            OLS Regression Results                            \n",
      "==============================================================================\n",
      "Dep. Variable:                      y   R-squared:                       0.641\n",
      "Model:                            OLS   Adj. R-squared:                  0.522\n",
      "Method:                 Least Squares   F-statistic:                     5.368\n",
      "Date:                Wed, 12 May 2021   Prob (F-statistic):              0.103\n",
      "Time:                        12:48:51   Log-Likelihood:                -6.0546\n",
      "No. Observations:                   5   AIC:                             16.11\n",
      "Df Residuals:                       3   BIC:                             15.33\n",
      "Df Model:                           1                                         \n",
      "Covariance Type:            nonrobust                                         \n",
      "==============================================================================\n",
      "                 coef    std err          t      P>|t|      [0.025      0.975]\n",
      "------------------------------------------------------------------------------\n",
      "Intercept      0.6491      1.357      0.478      0.665      -3.670       4.968\n",
      "x              0.2544      0.110      2.317      0.103      -0.095       0.604\n",
      "==============================================================================\n",
      "Omnibus:                          nan   Durbin-Watson:                   3.383\n",
      "Prob(Omnibus):                    nan   Jarque-Bera (JB):                0.617\n",
      "Skew:                          -0.391   Prob(JB):                        0.735\n",
      "Kurtosis:                       1.467   Cond. No.                         36.0\n",
      "==============================================================================\n",
      "\n",
      "Notes:\n",
      "[1] Standard Errors assume that the covariance matrix of the errors is correctly specified.\n",
      "                            OLS Regression Results                            \n",
      "==============================================================================\n",
      "Dep. Variable:                 weight   R-squared:                       0.397\n",
      "Model:                            OLS   Adj. R-squared:                  0.326\n",
      "Method:                 Least Squares   F-statistic:                     5.594\n",
      "Date:                Wed, 12 May 2021   Prob (F-statistic):             0.0136\n",
      "Time:                        12:48:51   Log-Likelihood:                -76.837\n",
      "No. Observations:                  20   AIC:                             159.7\n",
      "Df Residuals:                      17   BIC:                             162.7\n",
      "Df Model:                           2                                         \n",
      "Covariance Type:            nonrobust                                         \n",
      "==============================================================================\n",
      "                 coef    std err          t      P>|t|      [0.025      0.975]\n",
      "------------------------------------------------------------------------------\n",
      "Intercept   -181.3896     75.819     -2.392      0.029    -341.354     -21.426\n",
      "height         0.8536      0.333      2.560      0.020       0.150       1.557\n",
      "waist          1.3437      0.668      2.011      0.060      -0.066       2.753\n",
      "==============================================================================\n",
      "Omnibus:                        6.063   Durbin-Watson:                   2.115\n",
      "Prob(Omnibus):                  0.048   Jarque-Bera (JB):                3.617\n",
      "Skew:                           0.905   Prob(JB):                        0.164\n",
      "Kurtosis:                       4.033   Cond. No.                     5.24e+03\n",
      "==============================================================================\n",
      "\n",
      "Notes:\n",
      "[1] Standard Errors assume that the covariance matrix of the errors is correctly specified.\n",
      "[2] The condition number is large, 5.24e+03. This might indicate that there are\n",
      "strong multicollinearity or other numerical problems.\n"
     ]
    },
    {
     "data": {
      "image/png": "[encoded data removed]",
      "text/plain": [
       "<Figure size 432x288 with 1 Axes>"
      ]
     },
     "metadata": {
      "needs_background": "light"
     },
     "output_type": "display_data"
    }
   ],
   "source": [
    "# 第五回予習の内容\n",
    "from pandas import Series, DataFrame\n",
    "data = DataFrame({\n",
    "    'x':[6,14,18,8,12],\n",
    "    'y':[3, 3, 6,2, 4]\n",
    "})\n",
    "import statsmodels.formula.api as smf\n",
    "formula = 'y~x'\n",
    "out1 = smf.ols(formula, data=data).fit()\n",
    "print(out1.summary())\n",
    "import matplotlib.pyplot as plt\n",
    "plt.plot(data['x'], data['y'], 'o')\n",
    "plt.plot(data['x'], out1.fittedvalues, linestyle='solid')\n",
    "import pandas as pd\n",
    "data = pd.read_csv('/Users/asahi/Desktop/Pistat/ex2.7.csv')\n",
    "data\n",
    "formula = 'weight~height+waist'\n",
    "result = smf.ols(formula, data=data).fit()\n",
    "print(result.summary())"
   ]
  },
  {
   "cell_type": "code",
   "execution_count": 15,
   "id": "2171d2bc",
   "metadata": {},
   "outputs": [],
   "source": [
    "# ここから第六回\n",
    "data2=(data-data.mean())/data.std(ddof=0)"
   ]
  },
  {
   "cell_type": "code",
   "execution_count": 16,
   "id": "17a32b32",
   "metadata": {},
   "outputs": [],
   "source": [
    "data3=data2.copy()"
   ]
  },
  {
   "cell_type": "code",
   "execution_count": 17,
   "id": "b8ee42e7",
   "metadata": {},
   "outputs": [
    {
     "data": {
      "text/html": [
       "<div>\n",
       "<style scoped>\n",
       "    .dataframe tbody tr th:only-of-type {\n",
       "        vertical-align: middle;\n",
       "    }\n",
       "\n",
       "    .dataframe tbody tr th {\n",
       "        vertical-align: top;\n",
       "    }\n",
       "\n",
       "    .dataframe thead th {\n",
       "        text-align: right;\n",
       "    }\n",
       "</style>\n",
       "<table border=\"1\" class=\"dataframe\">\n",
       "  <thead>\n",
       "    <tr style=\"text-align: right;\">\n",
       "      <th></th>\n",
       "      <th>no</th>\n",
       "      <th>weight</th>\n",
       "      <th>height</th>\n",
       "      <th>waist</th>\n",
       "    </tr>\n",
       "  </thead>\n",
       "  <tbody>\n",
       "    <tr>\n",
       "      <th>0</th>\n",
       "      <td>-1.647509</td>\n",
       "      <td>0.871012</td>\n",
       "      <td>-1.004251</td>\n",
       "      <td>2.365854</td>\n",
       "    </tr>\n",
       "    <tr>\n",
       "      <th>1</th>\n",
       "      <td>-1.474087</td>\n",
       "      <td>-0.919210</td>\n",
       "      <td>-0.517341</td>\n",
       "      <td>-0.073171</td>\n",
       "    </tr>\n",
       "    <tr>\n",
       "      <th>2</th>\n",
       "      <td>-1.300665</td>\n",
       "      <td>-0.368372</td>\n",
       "      <td>1.065115</td>\n",
       "      <td>-0.317073</td>\n",
       "    </tr>\n",
       "    <tr>\n",
       "      <th>3</th>\n",
       "      <td>-1.127243</td>\n",
       "      <td>1.421849</td>\n",
       "      <td>1.917206</td>\n",
       "      <td>0.902439</td>\n",
       "    </tr>\n",
       "    <tr>\n",
       "      <th>4</th>\n",
       "      <td>-0.953821</td>\n",
       "      <td>-0.024099</td>\n",
       "      <td>0.456478</td>\n",
       "      <td>-0.073171</td>\n",
       "    </tr>\n",
       "  </tbody>\n",
       "</table>\n",
       "</div>"
      ],
      "text/plain": [
       "         no    weight    height     waist\n",
       "0 -1.647509  0.871012 -1.004251  2.365854\n",
       "1 -1.474087 -0.919210 -0.517341 -0.073171\n",
       "2 -1.300665 -0.368372  1.065115 -0.317073\n",
       "3 -1.127243  1.421849  1.917206  0.902439\n",
       "4 -0.953821 -0.024099  0.456478 -0.073171"
      ]
     },
     "execution_count": 17,
     "metadata": {},
     "output_type": "execute_result"
    }
   ],
   "source": [
    "data3.head()"
   ]
  },
  {
   "cell_type": "code",
   "execution_count": 20,
   "id": "06cf249e",
   "metadata": {},
   "outputs": [],
   "source": [
    "formula='weight ~ height + waist'"
   ]
  },
  {
   "cell_type": "code",
   "execution_count": 21,
   "id": "6f78aaed",
   "metadata": {},
   "outputs": [],
   "source": [
    "result = smf.ols(formula, data=data3).fit()"
   ]
  },
  {
   "cell_type": "code",
   "execution_count": 22,
   "id": "ceaf5da5",
   "metadata": {},
   "outputs": [
    {
     "name": "stdout",
     "output_type": "stream",
     "text": [
      "                            OLS Regression Results                            \n",
      "==============================================================================\n",
      "Dep. Variable:                 weight   R-squared:                       0.397\n",
      "Model:                            OLS   Adj. R-squared:                  0.326\n",
      "Method:                 Least Squares   F-statistic:                     5.594\n",
      "Date:                Wed, 12 May 2021   Prob (F-statistic):             0.0136\n",
      "Time:                        12:49:33   Log-Likelihood:                -23.322\n",
      "No. Observations:                  20   AIC:                             52.64\n",
      "Df Residuals:                      17   BIC:                             55.63\n",
      "Df Model:                           2                                         \n",
      "Covariance Type:            nonrobust                                         \n",
      "==============================================================================\n",
      "                 coef    std err          t      P>|t|      [0.025      0.975]\n",
      "------------------------------------------------------------------------------\n",
      "Intercept   3.955e-16      0.188    2.1e-15      1.000      -0.397       0.397\n",
      "height         0.4829      0.189      2.560      0.020       0.085       0.881\n",
      "waist          0.3793      0.189      2.011      0.060      -0.019       0.777\n",
      "==============================================================================\n",
      "Omnibus:                        6.063   Durbin-Watson:                   2.115\n",
      "Prob(Omnibus):                  0.048   Jarque-Bera (JB):                3.617\n",
      "Skew:                           0.905   Prob(JB):                        0.164\n",
      "Kurtosis:                       4.033   Cond. No.                         1.06\n",
      "==============================================================================\n",
      "\n",
      "Notes:\n",
      "[1] Standard Errors assume that the covariance matrix of the errors is correctly specified.\n"
     ]
    }
   ],
   "source": [
    "print(result.summary())"
   ]
  },
  {
   "cell_type": "code",
   "execution_count": null,
   "id": "026fc63a",
   "metadata": {},
   "outputs": [],
   "source": []
  },
  {
   "cell_type": "code",
   "execution_count": null,
   "id": "23a9701d",
   "metadata": {},
   "outputs": [],
   "source": []
  },
  {
   "cell_type": "code",
   "execution_count": 23,
   "id": "e99d7920",
   "metadata": {},
   "outputs": [],
   "source": [
    "formula='weight~height+waist'"
   ]
  },
  {
   "cell_type": "code",
   "execution_count": 24,
   "id": "c4ea5fff",
   "metadata": {},
   "outputs": [],
   "source": [
    "out2=smf.ols(formula,data=data).fit()"
   ]
  },
  {
   "cell_type": "code",
   "execution_count": 25,
   "id": "58636c79",
   "metadata": {},
   "outputs": [
    {
     "name": "stdout",
     "output_type": "stream",
     "text": [
      "                            OLS Regression Results                            \n",
      "==============================================================================\n",
      "Dep. Variable:                 weight   R-squared:                       0.397\n",
      "Model:                            OLS   Adj. R-squared:                  0.326\n",
      "Method:                 Least Squares   F-statistic:                     5.594\n",
      "Date:                Wed, 12 May 2021   Prob (F-statistic):             0.0136\n",
      "Time:                        12:50:44   Log-Likelihood:                -76.837\n",
      "No. Observations:                  20   AIC:                             159.7\n",
      "Df Residuals:                      17   BIC:                             162.7\n",
      "Df Model:                           2                                         \n",
      "Covariance Type:            nonrobust                                         \n",
      "==============================================================================\n",
      "                 coef    std err          t      P>|t|      [0.025      0.975]\n",
      "------------------------------------------------------------------------------\n",
      "Intercept   -181.3896     75.819     -2.392      0.029    -341.354     -21.426\n",
      "height         0.8536      0.333      2.560      0.020       0.150       1.557\n",
      "waist          1.3437      0.668      2.011      0.060      -0.066       2.753\n",
      "==============================================================================\n",
      "Omnibus:                        6.063   Durbin-Watson:                   2.115\n",
      "Prob(Omnibus):                  0.048   Jarque-Bera (JB):                3.617\n",
      "Skew:                           0.905   Prob(JB):                        0.164\n",
      "Kurtosis:                       4.033   Cond. No.                     5.24e+03\n",
      "==============================================================================\n",
      "\n",
      "Notes:\n",
      "[1] Standard Errors assume that the covariance matrix of the errors is correctly specified.\n",
      "[2] The condition number is large, 5.24e+03. This might indicate that there are\n",
      "strong multicollinearity or other numerical problems.\n"
     ]
    }
   ],
   "source": [
    "print(out2.summary())"
   ]
  },
  {
   "cell_type": "code",
   "execution_count": 26,
   "id": "46edf39e",
   "metadata": {},
   "outputs": [],
   "source": [
    "formula=\"weight~height\""
   ]
  },
  {
   "cell_type": "code",
   "execution_count": 27,
   "id": "bcb5cc33",
   "metadata": {},
   "outputs": [],
   "source": [
    "out1=smf.ols(formula, data=data).fit()"
   ]
  },
  {
   "cell_type": "code",
   "execution_count": 28,
   "id": "1b64ccb8",
   "metadata": {},
   "outputs": [
    {
     "name": "stdout",
     "output_type": "stream",
     "text": [
      "                            OLS Regression Results                            \n",
      "==============================================================================\n",
      "Dep. Variable:                 weight   R-squared:                       0.253\n",
      "Model:                            OLS   Adj. R-squared:                  0.212\n",
      "Method:                 Least Squares   F-statistic:                     6.110\n",
      "Date:                Wed, 12 May 2021   Prob (F-statistic):             0.0236\n",
      "Time:                        12:51:42   Log-Likelihood:                -78.971\n",
      "No. Observations:                  20   AIC:                             161.9\n",
      "Df Residuals:                      18   BIC:                             163.9\n",
      "Df Model:                           1                                         \n",
      "Covariance Type:            nonrobust                                         \n",
      "==============================================================================\n",
      "                 coef    std err          t      P>|t|      [0.025      0.975]\n",
      "------------------------------------------------------------------------------\n",
      "Intercept    -81.0590     61.728     -1.313      0.206    -210.746      48.628\n",
      "height         0.8900      0.360      2.472      0.024       0.134       1.646\n",
      "==============================================================================\n",
      "Omnibus:                        0.551   Durbin-Watson:                   2.354\n",
      "Prob(Omnibus):                  0.759   Jarque-Bera (JB):                0.384\n",
      "Skew:                           0.312   Prob(JB):                        0.825\n",
      "Kurtosis:                       2.733   Cond. No.                     3.58e+03\n",
      "==============================================================================\n",
      "\n",
      "Notes:\n",
      "[1] Standard Errors assume that the covariance matrix of the errors is correctly specified.\n",
      "[2] The condition number is large, 3.58e+03. This might indicate that there are\n",
      "strong multicollinearity or other numerical problems.\n"
     ]
    }
   ],
   "source": [
    "print(out1.summary())"
   ]
  },
  {
   "cell_type": "code",
   "execution_count": null,
   "id": "5b39a76d",
   "metadata": {},
   "outputs": [],
   "source": []
  }
 ],
 "metadata": {
  "kernelspec": {
   "display_name": "Python 3",
   "language": "python",
   "name": "python3"
  },
  "language_info": {
   "codemirror_mode": {
    "name": "ipython",
    "version": 3
   },
   "file_extension": ".py",
   "mimetype": "text/x-python",
   "name": "python",
   "nbconvert_exporter": "python",
   "pygments_lexer": "ipython3",
   "version": "3.8.3"
  }
 },
 "nbformat": 4,
 "nbformat_minor": 5
}
