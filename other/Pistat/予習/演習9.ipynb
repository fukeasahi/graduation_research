{
 "cells": [
  {
   "cell_type": "code",
   "execution_count": 1,
   "id": "c9df3aa8",
   "metadata": {},
   "outputs": [],
   "source": [
    "import pandas as pd"
   ]
  },
  {
   "cell_type": "code",
   "execution_count": 6,
   "id": "71539a2c",
   "metadata": {},
   "outputs": [],
   "source": [
    "data = pd.read_csv(\"/Users/asahi/desktop/Pistat/ex11.1.csv\",sep=\",\")"
   ]
  },
  {
   "cell_type": "code",
   "execution_count": 8,
   "id": "bdc5507f",
   "metadata": {},
   "outputs": [
    {
     "data": {
      "text/html": [
       "<div>\n",
       "<style scoped>\n",
       "    .dataframe tbody tr th:only-of-type {\n",
       "        vertical-align: middle;\n",
       "    }\n",
       "\n",
       "    .dataframe tbody tr th {\n",
       "        vertical-align: top;\n",
       "    }\n",
       "\n",
       "    .dataframe thead th {\n",
       "        text-align: right;\n",
       "    }\n",
       "</style>\n",
       "<table border=\"1\" class=\"dataframe\">\n",
       "  <thead>\n",
       "    <tr style=\"text-align: right;\">\n",
       "      <th></th>\n",
       "      <th>Y</th>\n",
       "      <th>X2</th>\n",
       "      <th>X1</th>\n",
       "      <th>DX1</th>\n",
       "      <th>D</th>\n",
       "    </tr>\n",
       "  </thead>\n",
       "  <tbody>\n",
       "    <tr>\n",
       "      <th>0</th>\n",
       "      <td>140904.0061</td>\n",
       "      <td>27</td>\n",
       "      <td>289072.9205</td>\n",
       "      <td>0.0</td>\n",
       "      <td>0</td>\n",
       "    </tr>\n",
       "    <tr>\n",
       "      <th>1</th>\n",
       "      <td>136231.0837</td>\n",
       "      <td>28</td>\n",
       "      <td>271688.4922</td>\n",
       "      <td>0.0</td>\n",
       "      <td>0</td>\n",
       "    </tr>\n",
       "    <tr>\n",
       "      <th>2</th>\n",
       "      <td>150618.6392</td>\n",
       "      <td>33</td>\n",
       "      <td>255630.9187</td>\n",
       "      <td>0.0</td>\n",
       "      <td>0</td>\n",
       "    </tr>\n",
       "    <tr>\n",
       "      <th>3</th>\n",
       "      <td>130186.7034</td>\n",
       "      <td>29</td>\n",
       "      <td>240093.8138</td>\n",
       "      <td>0.0</td>\n",
       "      <td>0</td>\n",
       "    </tr>\n",
       "    <tr>\n",
       "      <th>4</th>\n",
       "      <td>149583.9844</td>\n",
       "      <td>36</td>\n",
       "      <td>208509.3503</td>\n",
       "      <td>0.0</td>\n",
       "      <td>0</td>\n",
       "    </tr>\n",
       "  </tbody>\n",
       "</table>\n",
       "</div>"
      ],
      "text/plain": [
       "             Y  X2           X1  DX1  D\n",
       "0  140904.0061  27  289072.9205  0.0  0\n",
       "1  136231.0837  28  271688.4922  0.0  0\n",
       "2  150618.6392  33  255630.9187  0.0  0\n",
       "3  130186.7034  29  240093.8138  0.0  0\n",
       "4  149583.9844  36  208509.3503  0.0  0"
      ]
     },
     "execution_count": 8,
     "metadata": {},
     "output_type": "execute_result"
    }
   ],
   "source": [
    "data.head()"
   ]
  },
  {
   "cell_type": "code",
   "execution_count": 11,
   "id": "9f804a5b",
   "metadata": {},
   "outputs": [],
   "source": [
    "import statsmodels.formula.api as smf"
   ]
  },
  {
   "cell_type": "code",
   "execution_count": 12,
   "id": "217deaf6",
   "metadata": {},
   "outputs": [],
   "source": [
    "formula = \"Y~X2+X1+DX1+D\""
   ]
  },
  {
   "cell_type": "code",
   "execution_count": 13,
   "id": "f23fb389",
   "metadata": {},
   "outputs": [],
   "source": [
    "out1 = smf.ols(formula, data=data).fit()"
   ]
  },
  {
   "cell_type": "code",
   "execution_count": 14,
   "id": "034f9c4a",
   "metadata": {},
   "outputs": [
    {
     "name": "stdout",
     "output_type": "stream",
     "text": [
      "                            OLS Regression Results                            \n",
      "==============================================================================\n",
      "Dep. Variable:                      Y   R-squared:                       1.000\n",
      "Model:                            OLS   Adj. R-squared:                  1.000\n",
      "Method:                 Least Squares   F-statistic:                 8.950e+04\n",
      "Date:                Wed, 02 Jun 2021   Prob (F-statistic):          6.50e-169\n",
      "Time:                        12:39:15   Log-Likelihood:                -839.01\n",
      "No. Observations:                 100   AIC:                             1688.\n",
      "Df Residuals:                      95   BIC:                             1701.\n",
      "Df Model:                           4                                         \n",
      "Covariance Type:            nonrobust                                         \n",
      "==============================================================================\n",
      "                 coef    std err          t      P>|t|      [0.025      0.975]\n",
      "------------------------------------------------------------------------------\n",
      "Intercept  -5.906e+04   1060.937    -55.671      0.000   -6.12e+04    -5.7e+04\n",
      "X2          3888.3764     20.343    191.136      0.000    3847.989    3928.763\n",
      "X1             0.3251      0.003    106.318      0.000       0.319       0.331\n",
      "DX1            0.4470      0.004    112.112      0.000       0.439       0.455\n",
      "D          -6.373e+04   1168.258    -54.552      0.000    -6.6e+04   -6.14e+04\n",
      "==============================================================================\n",
      "Omnibus:                       20.032   Durbin-Watson:                   2.085\n",
      "Prob(Omnibus):                  0.000   Jarque-Bera (JB):                4.938\n",
      "Skew:                          -0.052   Prob(JB):                       0.0847\n",
      "Kurtosis:                       1.916   Cond. No.                     4.45e+06\n",
      "==============================================================================\n",
      "\n",
      "Notes:\n",
      "[1] Standard Errors assume that the covariance matrix of the errors is correctly specified.\n",
      "[2] The condition number is large, 4.45e+06. This might indicate that there are\n",
      "strong multicollinearity or other numerical problems.\n"
     ]
    }
   ],
   "source": [
    "print(out1.summary())"
   ]
  },
  {
   "cell_type": "code",
   "execution_count": null,
   "id": "2376dc4e",
   "metadata": {},
   "outputs": [],
   "source": []
  }
 ],
 "metadata": {
  "kernelspec": {
   "display_name": "Python 3",
   "language": "python",
   "name": "python3"
  },
  "language_info": {
   "codemirror_mode": {
    "name": "ipython",
    "version": 3
   },
   "file_extension": ".py",
   "mimetype": "text/x-python",
   "name": "python",
   "nbconvert_exporter": "python",
   "pygments_lexer": "ipython3",
   "version": "3.8.3"
  }
 },
 "nbformat": 4,
 "nbformat_minor": 5
}
